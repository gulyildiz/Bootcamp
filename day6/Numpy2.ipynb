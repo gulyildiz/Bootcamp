{
 "cells": [
  {
   "cell_type": "markdown",
   "id": "1638c423-54e6-4c48-9375-02a69cb41e03",
   "metadata": {},
   "source": [
    "### Numpy 2"
   ]
  },
  {
   "cell_type": "code",
   "execution_count": 2,
   "id": "9c9d37fb-9e99-48d5-8378-23ddc6210221",
   "metadata": {},
   "outputs": [],
   "source": [
    "import numpy as np"
   ]
  },
  {
   "cell_type": "code",
   "execution_count": 8,
   "id": "46eb532b-29cc-4703-8f2d-c2eb1f9f03a8",
   "metadata": {},
   "outputs": [],
   "source": [
    "sayi_listesi=np.random.randint(0,101,20)"
   ]
  },
  {
   "cell_type": "code",
   "execution_count": 10,
   "id": "a6932cb0-ce5b-4904-8a19-05260d994930",
   "metadata": {},
   "outputs": [
    {
     "data": {
      "text/plain": [
       "array([ 97,  25,  16,  91,  31,  82,  25,  67,  22,  95, 100,  23,  13,\n",
       "        54,  97,  66,  59,  25,  87,  36])"
      ]
     },
     "execution_count": 10,
     "metadata": {},
     "output_type": "execute_result"
    }
   ],
   "source": [
    "sayi_listesi"
   ]
  },
  {
   "cell_type": "code",
   "execution_count": 12,
   "id": "8edba010-889c-443b-bce2-9b204a6afd1d",
   "metadata": {},
   "outputs": [
    {
     "data": {
      "text/plain": [
       "array([ 13,  16,  22,  23,  25,  25,  25,  31,  36,  54,  59,  66,  67,\n",
       "        82,  87,  91,  95,  97,  97, 100])"
      ]
     },
     "execution_count": 12,
     "metadata": {},
     "output_type": "execute_result"
    }
   ],
   "source": [
    "#sayı listesini sıralama\n",
    "sayi_listesi=np.sort(sayi_listesi)\n",
    "sayi_listesi"
   ]
  },
  {
   "cell_type": "code",
   "execution_count": 14,
   "id": "96243f77-336b-4781-90f7-3526fc50af48",
   "metadata": {},
   "outputs": [
    {
     "data": {
      "text/plain": [
       "'nereC'"
      ]
     },
     "execution_count": 14,
     "metadata": {},
     "output_type": "execute_result"
    }
   ],
   "source": [
    "isim='Ceren'\n",
    "isim[::-1]"
   ]
  },
  {
   "cell_type": "code",
   "execution_count": 22,
   "id": "e150c739-3dee-4e2f-9926-ac9f4acad477",
   "metadata": {},
   "outputs": [
    {
     "data": {
      "text/plain": [
       "array([100,  97,  97,  95,  91,  87,  82,  67,  66,  59,  54,  36,  31,\n",
       "        25,  25,  25,  23,  22,  16,  13])"
      ]
     },
     "execution_count": 22,
     "metadata": {},
     "output_type": "execute_result"
    }
   ],
   "source": [
    "sayi_listesi2=np.sort(sayi_listesi)[::-1]\n",
    "sayi_listesi2"
   ]
  },
  {
   "cell_type": "code",
   "execution_count": 36,
   "id": "0351ab4c-f632-4ad3-bc64-4ee194c741b2",
   "metadata": {},
   "outputs": [],
   "source": [
    "sayi_listesi3=np.arange(0,10) #arange metoduyla liste oluşturma"
   ]
  },
  {
   "cell_type": "code",
   "execution_count": 38,
   "id": "7020088c-afca-4bea-8183-2a39dfb7e193",
   "metadata": {},
   "outputs": [
    {
     "data": {
      "text/plain": [
       "array([0, 1, 2, 3, 4, 5, 6, 7, 8, 9])"
      ]
     },
     "execution_count": 38,
     "metadata": {},
     "output_type": "execute_result"
    }
   ],
   "source": [
    "sayi_listesi3"
   ]
  },
  {
   "cell_type": "code",
   "execution_count": 40,
   "id": "48a3a7c9-f99b-40fe-88eb-59bf067aeed3",
   "metadata": {},
   "outputs": [
    {
     "data": {
      "text/plain": [
       "array([9, 8, 7, 6, 5, 4, 3, 2, 1, 0])"
      ]
     },
     "execution_count": 40,
     "metadata": {},
     "output_type": "execute_result"
    }
   ],
   "source": [
    "np.flipud(sayi_listesi3)"
   ]
  },
  {
   "cell_type": "code",
   "execution_count": 42,
   "id": "7db67e29-e540-40c7-abe9-6f03794a4ada",
   "metadata": {},
   "outputs": [
    {
     "data": {
      "text/plain": [
       "array([0, 1, 2, 3, 4, 5, 6, 7, 8, 9])"
      ]
     },
     "execution_count": 42,
     "metadata": {},
     "output_type": "execute_result"
    }
   ],
   "source": [
    "sayi_listesi3"
   ]
  },
  {
   "cell_type": "code",
   "execution_count": null,
   "id": "e061aeb1-6430-40ea-885a-72b6ee8db0a5",
   "metadata": {},
   "outputs": [],
   "source": [
    "#help foksiyonu\n",
    "help(np.maximum)"
   ]
  },
  {
   "cell_type": "code",
   "execution_count": 44,
   "id": "dc0e0643-28fc-43c3-9eb2-63f5f06b8c63",
   "metadata": {},
   "outputs": [
    {
     "data": {
      "text/plain": [
       "array([100,  80,  30])"
      ]
     },
     "execution_count": 44,
     "metadata": {},
     "output_type": "execute_result"
    }
   ],
   "source": [
    "np.maximum([100,50,30],[20,80,30])"
   ]
  },
  {
   "cell_type": "code",
   "execution_count": 46,
   "id": "b5b352cd-cb68-4d72-b77d-65abf664a1a0",
   "metadata": {},
   "outputs": [
    {
     "data": {
      "text/plain": [
       "array([100,  80,  30])"
      ]
     },
     "execution_count": 46,
     "metadata": {},
     "output_type": "execute_result"
    }
   ],
   "source": [
    "liste1=[100,50,30]\n",
    "liste2=[20,80,30]\n",
    "np.maximum(liste1,liste2)"
   ]
  },
  {
   "cell_type": "code",
   "execution_count": 50,
   "id": "671cba02-e09b-4a9d-ad94-73457d8c82dd",
   "metadata": {},
   "outputs": [
    {
     "data": {
      "text/plain": [
       "50"
      ]
     },
     "execution_count": 50,
     "metadata": {},
     "output_type": "execute_result"
    }
   ],
   "source": [
    "np.maximum(20,50) #ikili arama algoritmalarında yararlı"
   ]
  },
  {
   "cell_type": "code",
   "execution_count": 52,
   "id": "b3faea4c-3217-460e-bf68-2857de66026e",
   "metadata": {},
   "outputs": [
    {
     "data": {
      "text/plain": [
       "1"
      ]
     },
     "execution_count": 52,
     "metadata": {},
     "output_type": "execute_result"
    }
   ],
   "source": [
    "#dizileri yeniden şekillendirme\n",
    "sayi_listesi=np.random.randint(0,101,20)\n",
    "sayi_listesi.ndim"
   ]
  },
  {
   "cell_type": "code",
   "execution_count": 64,
   "id": "1dd88a86-1c77-4243-a812-49623582380b",
   "metadata": {},
   "outputs": [
    {
     "data": {
      "text/plain": [
       "array([89, 97, 36, 57, 83, 56, 64, 76, 87, 36, 94, 23, 10, 11, 36, 52, 50,\n",
       "       36, 64, 46])"
      ]
     },
     "execution_count": 64,
     "metadata": {},
     "output_type": "execute_result"
    }
   ],
   "source": [
    "sayi_listesi"
   ]
  },
  {
   "cell_type": "code",
   "execution_count": 66,
   "id": "7d947a8a-f5ae-461b-aa78-906568350f8d",
   "metadata": {},
   "outputs": [
    {
     "data": {
      "text/plain": [
       "(20,)"
      ]
     },
     "execution_count": 66,
     "metadata": {},
     "output_type": "execute_result"
    }
   ],
   "source": [
    "sayi_listesi.shape"
   ]
  },
  {
   "cell_type": "code",
   "execution_count": 56,
   "id": "36939517-1a34-4e52-9d13-560587a74db2",
   "metadata": {},
   "outputs": [],
   "source": [
    "#2 boyut için x,y eksenleri 4*5\n",
    "sayi_listesi2d=sayi_listesi.reshape(4,5)"
   ]
  },
  {
   "cell_type": "code",
   "execution_count": 58,
   "id": "ffd8674b-f320-4bfc-acef-0cee955d029e",
   "metadata": {},
   "outputs": [
    {
     "data": {
      "text/plain": [
       "array([[89, 97, 36, 57, 83],\n",
       "       [56, 64, 76, 87, 36],\n",
       "       [94, 23, 10, 11, 36],\n",
       "       [52, 50, 36, 64, 46]])"
      ]
     },
     "execution_count": 58,
     "metadata": {},
     "output_type": "execute_result"
    }
   ],
   "source": [
    "sayi_listesi2d"
   ]
  },
  {
   "cell_type": "code",
   "execution_count": 62,
   "id": "0f09d37c-00ba-477e-854e-7229f03a6b3a",
   "metadata": {},
   "outputs": [
    {
     "data": {
      "text/plain": [
       "(4, 5)"
      ]
     },
     "execution_count": 62,
     "metadata": {},
     "output_type": "execute_result"
    }
   ],
   "source": [
    "sayi_listesi2d.shape"
   ]
  },
  {
   "cell_type": "code",
   "execution_count": 82,
   "id": "648d5e7d-ddb5-43be-b1d0-8397fd1793e0",
   "metadata": {},
   "outputs": [
    {
     "data": {
      "text/plain": [
       "array([89, 97, 36, 57, 83, 56, 64, 76, 87, 36, 94, 23, 10, 11, 36, 52, 50,\n",
       "       36, 64, 46])"
      ]
     },
     "execution_count": 82,
     "metadata": {},
     "output_type": "execute_result"
    }
   ],
   "source": [
    "#eğer azaltmak istiyorsak -1 dememiz gerekir, ya da (sayı,boşluk) yazmamız gerekir.\n",
    "sayi_listesi1d=sayi_listesi2d.reshape(-1) \n",
    "sayi_listesi1d"
   ]
  },
  {
   "cell_type": "code",
   "execution_count": 84,
   "id": "fb857734-c834-48ea-80ee-7aa67eee62fe",
   "metadata": {},
   "outputs": [
    {
     "data": {
      "text/plain": [
       "(20,)"
      ]
     },
     "execution_count": 84,
     "metadata": {},
     "output_type": "execute_result"
    }
   ],
   "source": [
    "sayi_listesi1d.shape"
   ]
  },
  {
   "cell_type": "code",
   "execution_count": 86,
   "id": "79c43f8b-19aa-45d5-9e68-81e5740d23a5",
   "metadata": {},
   "outputs": [
    {
     "data": {
      "text/plain": [
       "1"
      ]
     },
     "execution_count": 86,
     "metadata": {},
     "output_type": "execute_result"
    }
   ],
   "source": [
    "sayi_listesi1d.ndim"
   ]
  },
  {
   "cell_type": "code",
   "execution_count": 90,
   "id": "46922a5f-a7fe-420b-9c67-11dff6e92355",
   "metadata": {},
   "outputs": [
    {
     "data": {
      "text/plain": [
       "4"
      ]
     },
     "execution_count": 90,
     "metadata": {},
     "output_type": "execute_result"
    }
   ],
   "source": [
    "len(sayi_listesi2d)"
   ]
  },
  {
   "cell_type": "code",
   "execution_count": 94,
   "id": "c9d7aceb-3017-4975-8f6d-dd62658bffc1",
   "metadata": {},
   "outputs": [
    {
     "data": {
      "text/plain": [
       "'yeşil'"
      ]
     },
     "execution_count": 94,
     "metadata": {},
     "output_type": "execute_result"
    }
   ],
   "source": [
    "#Renkler\n",
    "renkler=np.array(['kırmızı', 'yeşil', 'mavi', 'beyaz'])\n",
    "renkler[-3]"
   ]
  },
  {
   "cell_type": "code",
   "execution_count": 96,
   "id": "6c0fed03-0d31-4d6b-a5f5-84bd24ed6687",
   "metadata": {},
   "outputs": [
    {
     "data": {
      "text/plain": [
       "array(['kırmızı', 'yeşil', 'mavi', 'turuncu', 'mor', 'sarı'], dtype='<U7')"
      ]
     },
     "execution_count": 96,
     "metadata": {},
     "output_type": "execute_result"
    }
   ],
   "source": [
    "ana_renkler=np.array(['kırmızı', 'yeşil', 'mavi'])\n",
    "ara_renkler=np.array(['turuncu', 'mor', 'sarı'])\n",
    "#renkleri birleştir\n",
    "renkler=np.concatenate((ana_renkler, ara_renkler))\n",
    "renkler"
   ]
  },
  {
   "cell_type": "code",
   "execution_count": 100,
   "id": "53574600-be25-44b3-bc78-bac3e244bd15",
   "metadata": {},
   "outputs": [
    {
     "data": {
      "text/plain": [
       "array([['kırmızı', 'yeşil', 'mavi'],\n",
       "       ['turuncu', 'mor', 'sarı']], dtype='<U7')"
      ]
     },
     "execution_count": 100,
     "metadata": {},
     "output_type": "execute_result"
    }
   ],
   "source": [
    "renkler2=np.array([ana_renkler, ara_renkler])\n",
    "renkler2"
   ]
  },
  {
   "cell_type": "code",
   "execution_count": 247,
   "id": "7b82973e-916e-49f1-80a4-76b64faaa88d",
   "metadata": {},
   "outputs": [
    {
     "data": {
      "text/plain": [
       "array([['Ceren', 'K', '26'],\n",
       "       ['Murat', 'E', '42']], dtype='<U5')"
      ]
     },
     "execution_count": 247,
     "metadata": {},
     "output_type": "execute_result"
    }
   ],
   "source": [
    "ogrenci1=np.array(['Ceren','K','26'])\n",
    "ogrenci2=np.array(['Murat','E','42'])\n",
    "ogrenciler=np.array([ogrenci1,ogrenci2])\n",
    "ogrenciler"
   ]
  },
  {
   "cell_type": "code",
   "execution_count": 209,
   "id": "1d933549-236f-4170-9cee-151124910252",
   "metadata": {},
   "outputs": [
    {
     "data": {
      "text/plain": [
       "array(['Ceren', 'K', '26'], dtype='<U5')"
      ]
     },
     "execution_count": 209,
     "metadata": {},
     "output_type": "execute_result"
    }
   ],
   "source": [
    "ogrenciler[0] #indexi 1 olan öğrenci"
   ]
  },
  {
   "cell_type": "code",
   "execution_count": 114,
   "id": "45360a1c-cfbe-4138-a0bd-87999ebd7b63",
   "metadata": {},
   "outputs": [
    {
     "data": {
      "text/plain": [
       "'K'"
      ]
     },
     "execution_count": 114,
     "metadata": {},
     "output_type": "execute_result"
    }
   ],
   "source": [
    "ogrenciler[0][1] #satır sütun"
   ]
  },
  {
   "cell_type": "code",
   "execution_count": 116,
   "id": "94c05857-4112-4741-af21-8a4c973de074",
   "metadata": {},
   "outputs": [
    {
     "data": {
      "text/plain": [
       "numpy.str_"
      ]
     },
     "execution_count": 116,
     "metadata": {},
     "output_type": "execute_result"
    }
   ],
   "source": [
    "type(ogrenciler[1][0])"
   ]
  },
  {
   "cell_type": "code",
   "execution_count": 118,
   "id": "859e59b1-3148-4ca0-bfff-66bb251b4312",
   "metadata": {},
   "outputs": [
    {
     "data": {
      "text/plain": [
       "'42'"
      ]
     },
     "execution_count": 118,
     "metadata": {},
     "output_type": "execute_result"
    }
   ],
   "source": [
    "ogrenciler[1][2]"
   ]
  },
  {
   "cell_type": "code",
   "execution_count": 213,
   "id": "b7919374-d3c0-476b-be50-18da71b92a63",
   "metadata": {},
   "outputs": [
    {
     "data": {
      "text/plain": [
       "array([['Ceren', 'K', '26']], dtype='<U5')"
      ]
     },
     "execution_count": 213,
     "metadata": {},
     "output_type": "execute_result"
    }
   ],
   "source": [
    "ogrenciler[0:1]"
   ]
  },
  {
   "cell_type": "markdown",
   "id": "736b0cd5-44b2-4ad3-bb03-5c7dc4880ca0",
   "metadata": {},
   "source": [
    "### bir matrisyen isim ve yaşı almak"
   ]
  },
  {
   "cell_type": "code",
   "execution_count": 261,
   "id": "22300d8c-9c2d-4d91-9b1b-9d918603217d",
   "metadata": {},
   "outputs": [],
   "source": [
    "isim_yas=ogrenciler[:,[0,2]] #sadece belirli bir kısmı görmek istiyorsak o kısmın rakamlarını yazmalıyız ama hepsini görmek istiyorsak 0,1,2 üçlü şekilde yazmalıyız "
   ]
  },
  {
   "cell_type": "code",
   "execution_count": 263,
   "id": "f90f879b-bd12-45ee-a180-50455cbd8c6c",
   "metadata": {},
   "outputs": [
    {
     "data": {
      "text/plain": [
       "array([['Ceren', '26'],\n",
       "       ['Murat', '42']], dtype='<U5')"
      ]
     },
     "execution_count": 263,
     "metadata": {},
     "output_type": "execute_result"
    }
   ],
   "source": [
    "isim_yas"
   ]
  },
  {
   "cell_type": "code",
   "execution_count": 155,
   "id": "639bd908-b272-467f-b798-c917dc8599d2",
   "metadata": {},
   "outputs": [
    {
     "data": {
      "text/plain": [
       "array([['Ceren'],\n",
       "       ['Murat']], dtype='<U5')"
      ]
     },
     "execution_count": 155,
     "metadata": {},
     "output_type": "execute_result"
    }
   ],
   "source": [
    "ogrenciler[:,[0]]"
   ]
  },
  {
   "cell_type": "code",
   "execution_count": 157,
   "id": "8bc81870-fac0-41a8-af95-d9a37046f87b",
   "metadata": {},
   "outputs": [
    {
     "data": {
      "text/plain": [
       "(array([1, 2, 3, 4, 5]), array([ 1, 20,  3,  4,  5]))"
      ]
     },
     "execution_count": 157,
     "metadata": {},
     "output_type": "execute_result"
    }
   ],
   "source": [
    "#copy metodu, diziyi kopyalamaya yardımcı olur\n",
    "array1=np.array([1,2,3,4,5])\n",
    "array2=array1.copy()\n",
    "array2[1]=20\n",
    "array1,array2"
   ]
  },
  {
   "cell_type": "code",
   "execution_count": null,
   "id": "534eb1b2-7a5d-49dc-9209-5312c043bd31",
   "metadata": {},
   "outputs": [],
   "source": [
    "#view metodu, copy aslını değiştirmez ama view değiştirir.\n"
   ]
  },
  {
   "cell_type": "code",
   "execution_count": 159,
   "id": "a304b489-5f22-4901-995a-70075834870a",
   "metadata": {},
   "outputs": [
    {
     "data": {
      "text/plain": [
       "(array([ 1, 20,  3,  4,  5]), array([ 1, 20,  3,  4,  5]))"
      ]
     },
     "execution_count": 159,
     "metadata": {},
     "output_type": "execute_result"
    }
   ],
   "source": [
    "array1=np.array([1,2,3,4,5])\n",
    "array2=array1.view()\n",
    "array2[1]=20\n",
    "array1,array2"
   ]
  },
  {
   "cell_type": "code",
   "execution_count": 163,
   "id": "54d3164a-7152-41f8-9899-808331e3b0b3",
   "metadata": {},
   "outputs": [
    {
     "data": {
      "text/plain": [
       "array([90, 91, 73, 96, 51, 79, 97, 91, 68, 85, 55, 56, 71, 94, 67, 70, 70,\n",
       "       83, 84, 55])"
      ]
     },
     "execution_count": 163,
     "metadata": {},
     "output_type": "execute_result"
    }
   ],
   "source": [
    "vize_puan=np.random.randint(50,101,20)\n",
    "vize_puan"
   ]
  },
  {
   "cell_type": "code",
   "execution_count": 165,
   "id": "f426fb56-fe01-4f14-9ba1-96bc029b6737",
   "metadata": {},
   "outputs": [],
   "source": [
    "#dosyayı kaydetmek istersek\n",
    "np.savetxt('notlar.txt', vize_puan)"
   ]
  },
  {
   "cell_type": "code",
   "execution_count": 3,
   "id": "53b01ac3-c1ad-4453-858e-0296abb2157a",
   "metadata": {},
   "outputs": [
    {
     "name": "stdout",
     "output_type": "stream",
     "text": [
      " Volume in drive C has no label.\n",
      " Volume Serial Number is 4C16-0290\n",
      "\n",
      " Directory of C:\\Users\\gulcy\\Documents\\Bootcamp\\day6\n",
      "\n",
      "09.08.2024  23:46    <DIR>          .\n",
      "09.08.2024  21:34    <DIR>          ..\n",
      "09.08.2024  22:39    <DIR>          .ipynb_checkpoints\n",
      "09.08.2024  22:17               520 notlar.txt\n",
      "09.08.2024  23:46            30.929 Numpy2.ipynb\n",
      "               2 File(s)         31.449 bytes\n",
      "               3 Dir(s)  399.895.203.840 bytes free\n"
     ]
    }
   ],
   "source": [
    "ls"
   ]
  },
  {
   "cell_type": "code",
   "execution_count": 175,
   "id": "7c821164-7a09-4f36-accd-12211f3bc2e7",
   "metadata": {},
   "outputs": [],
   "source": [
    "vize_puanlar=np.loadtxt('notlar.txt')"
   ]
  },
  {
   "cell_type": "code",
   "execution_count": 179,
   "id": "d228af36-94cf-48ec-a436-f283260b57a6",
   "metadata": {},
   "outputs": [
    {
     "name": "stdout",
     "output_type": "stream",
     "text": [
      "90.0 91.0 73.0 96.0 51.0 79.0 97.0 91.0 68.0 85.0 55.0 56.0 71.0 94.0 67.0 70.0 70.0 83.0 84.0 55.0\n"
     ]
    }
   ],
   "source": [
    "print(*vize_puanlar)"
   ]
  },
  {
   "cell_type": "code",
   "execution_count": 181,
   "id": "7d14c0c5-810f-42b7-83e7-3a281d225ede",
   "metadata": {},
   "outputs": [
    {
     "data": {
      "text/plain": [
       "array([51., 55., 55., 56., 67., 68., 70., 70., 71., 73., 79., 83., 84.,\n",
       "       85., 90., 91., 91., 94., 96., 97.])"
      ]
     },
     "execution_count": 181,
     "metadata": {},
     "output_type": "execute_result"
    }
   ],
   "source": [
    "np.sort(vize_puanlar)"
   ]
  },
  {
   "cell_type": "code",
   "execution_count": null,
   "id": "d364ff7b-ba69-4f9b-81f4-e5470e338635",
   "metadata": {},
   "outputs": [],
   "source": [
    "#betimsel istatistikler"
   ]
  },
  {
   "cell_type": "code",
   "execution_count": 183,
   "id": "13eb5492-cf58-4b55-a1b2-1529cd1d433c",
   "metadata": {},
   "outputs": [
    {
     "data": {
      "text/plain": [
       "76.3"
      ]
     },
     "execution_count": 183,
     "metadata": {},
     "output_type": "execute_result"
    }
   ],
   "source": [
    "#mean-ortalama\n",
    "np.mean(vize_puanlar)"
   ]
  },
  {
   "cell_type": "code",
   "execution_count": 185,
   "id": "39d46a72-0725-47cc-a1c8-9d14ad589cc9",
   "metadata": {},
   "outputs": [
    {
     "data": {
      "text/plain": [
       "76.0"
      ]
     },
     "execution_count": 185,
     "metadata": {},
     "output_type": "execute_result"
    }
   ],
   "source": [
    "#ortanca median\n",
    "np.median(vize_puanlar)"
   ]
  },
  {
   "cell_type": "code",
   "execution_count": 193,
   "id": "da84e548-9628-4350-a317-b0824c47de35",
   "metadata": {},
   "outputs": [
    {
     "data": {
      "text/plain": [
       "14.439875345722344"
      ]
     },
     "execution_count": 193,
     "metadata": {},
     "output_type": "execute_result"
    }
   ],
   "source": [
    "#standart sapma\n",
    "np.std(vize_puanlar)"
   ]
  },
  {
   "cell_type": "code",
   "execution_count": 195,
   "id": "206b1026-abe4-4055-8cfb-822f3187a9e5",
   "metadata": {},
   "outputs": [
    {
     "data": {
      "text/plain": [
       "208.51"
      ]
     },
     "execution_count": 195,
     "metadata": {},
     "output_type": "execute_result"
    }
   ],
   "source": [
    "#varyans sd**2, standart sapmanın karesidir. Dağılım hakkında bilgi verir\n",
    "np.var(vize_puanlar)"
   ]
  },
  {
   "cell_type": "code",
   "execution_count": 197,
   "id": "0376d18f-0b33-4394-bb22-d52106972497",
   "metadata": {},
   "outputs": [
    {
     "data": {
      "text/plain": [
       "97.0"
      ]
     },
     "execution_count": 197,
     "metadata": {},
     "output_type": "execute_result"
    }
   ],
   "source": [
    "#minimum ve maximum\n",
    "np.amax(vize_puanlar)"
   ]
  },
  {
   "cell_type": "code",
   "execution_count": 199,
   "id": "f9f69494-50f8-4428-a02d-710e70e69993",
   "metadata": {},
   "outputs": [
    {
     "data": {
      "text/plain": [
       "51.0"
      ]
     },
     "execution_count": 199,
     "metadata": {},
     "output_type": "execute_result"
    }
   ],
   "source": [
    "np.amin(vize_puanlar)"
   ]
  },
  {
   "cell_type": "code",
   "execution_count": 203,
   "id": "819f2fe2-01cf-4f8b-918e-7d99b92ee37f",
   "metadata": {},
   "outputs": [
    {
     "data": {
      "text/plain": [
       "119.61962603716702"
      ]
     },
     "execution_count": 203,
     "metadata": {},
     "output_type": "execute_result"
    }
   ],
   "source": [
    "outlier_max=np.mean(vize_puanlar)+3*np.std(vize_puanlar)\n",
    "outlier_max"
   ]
  },
  {
   "cell_type": "code",
   "execution_count": 207,
   "id": "90e4d441-6731-44ae-9c3f-7ab259459705",
   "metadata": {},
   "outputs": [
    {
     "data": {
      "text/plain": [
       "32.980373962832964"
      ]
     },
     "execution_count": 207,
     "metadata": {},
     "output_type": "execute_result"
    }
   ],
   "source": [
    "outlier_min=np.mean(vize_puanlar)-3*np.std(vize_puanlar)\n",
    "outlier_min"
   ]
  },
  {
   "cell_type": "code",
   "execution_count": 275,
   "id": "5cfc0d4d-2549-4862-bcbd-8e0f8c66e7e3",
   "metadata": {},
   "outputs": [
    {
     "data": {
      "text/plain": [
       "array([79.46178283, 71.27239578, 75.94892142, 81.56279825, 77.00532885,\n",
       "       76.89177114, 77.27305824, 90.47311634, 67.34235349, 72.59122625,\n",
       "       69.02882048, 83.08775002, 81.66599893, 92.95518111, 69.43819453,\n",
       "       81.99630455, 90.63339667, 75.19740031, 82.28538461, 60.71196994,\n",
       "       71.74126009])"
      ]
     },
     "execution_count": 275,
     "metadata": {},
     "output_type": "execute_result"
    }
   ],
   "source": [
    "puanlar=np.random.normal(loc=75,scale=10,size=21) #ortalama 75,std=10 21 tane not\n",
    "puanlar"
   ]
  },
  {
   "cell_type": "code",
   "execution_count": 293,
   "id": "21cec0a5-ebd7-417a-a16e-c551045144c7",
   "metadata": {},
   "outputs": [
    {
     "data": {
      "text/plain": [
       "array([79, 71, 76, 82, 77, 77, 77, 90, 67, 73, 69, 83, 82, 93, 69, 82, 91,\n",
       "       75, 82, 61, 72])"
      ]
     },
     "execution_count": 293,
     "metadata": {},
     "output_type": "execute_result"
    }
   ],
   "source": [
    "puanlar_int=np.rint(puanlar).astype(int) #round int/tam sayı olarak tuvarla .0 şeklinde duran ondalıklı kısmı iste astype ile çevir\n",
    "puanlar_int"
   ]
  },
  {
   "cell_type": "code",
   "execution_count": 295,
   "id": "1a764d43-9e49-4b19-b643-a71fcfe7899f",
   "metadata": {},
   "outputs": [
    {
     "data": {
      "text/plain": [
       "array([79., 71., 76., 82., 77., 77., 77., 90., 67., 73., 69., 83., 82.,\n",
       "       93., 69., 82., 91., 75., 82., 61., 72.])"
      ]
     },
     "execution_count": 295,
     "metadata": {},
     "output_type": "execute_result"
    }
   ],
   "source": [
    "np.rint(puanlar)"
   ]
  },
  {
   "cell_type": "code",
   "execution_count": 297,
   "id": "da09d3bd-b222-43c1-92e7-5ac0622b4dd0",
   "metadata": {},
   "outputs": [
    {
     "data": {
      "text/plain": [
       "77.55068637295186"
      ]
     },
     "execution_count": 297,
     "metadata": {},
     "output_type": "execute_result"
    }
   ],
   "source": [
    "np.mean(puanlar)"
   ]
  },
  {
   "cell_type": "code",
   "execution_count": 299,
   "id": "b19365a9-661e-4fa7-9056-5606dd70c733",
   "metadata": {},
   "outputs": [
    {
     "data": {
      "text/plain": [
       "77.00532885386853"
      ]
     },
     "execution_count": 299,
     "metadata": {},
     "output_type": "execute_result"
    }
   ],
   "source": [
    "np.median(puanlar)"
   ]
  },
  {
   "cell_type": "code",
   "execution_count": 301,
   "id": "6891e9c2-bae0-45b1-a3d8-dca5e8209186",
   "metadata": {},
   "outputs": [
    {
     "data": {
      "text/plain": [
       "7.921736482292793"
      ]
     },
     "execution_count": 301,
     "metadata": {},
     "output_type": "execute_result"
    }
   ],
   "source": [
    "np.std(puanlar)"
   ]
  },
  {
   "cell_type": "code",
   "execution_count": 307,
   "id": "5266e9dc-8734-48a1-b5c8-39039cdd8b02",
   "metadata": {},
   "outputs": [
    {
     "data": {
      "text/plain": [
       "array([[79, 71, 76],\n",
       "       [82, 77, 77],\n",
       "       [77, 90, 67],\n",
       "       [73, 69, 83],\n",
       "       [82, 93, 69],\n",
       "       [82, 91, 75],\n",
       "       [82, 61, 72]])"
      ]
     },
     "execution_count": 307,
     "metadata": {},
     "output_type": "execute_result"
    }
   ],
   "source": [
    "ogrenci_puanları=puanlar_int.reshape(7,3) #vize, final ve derse devam puanları\n",
    "ogrenci_puanları"
   ]
  },
  {
   "cell_type": "code",
   "execution_count": 311,
   "id": "ff9700aa-d839-479e-a4f8-5d60576e3588",
   "metadata": {},
   "outputs": [
    {
     "data": {
      "text/plain": [
       "array([82, 93, 83])"
      ]
     },
     "execution_count": 311,
     "metadata": {},
     "output_type": "execute_result"
    }
   ],
   "source": [
    "#Sütunlardaki en yüksek puanlar\n",
    "np.amax(ogrenci_puanları, axis=0)"
   ]
  },
  {
   "cell_type": "code",
   "execution_count": 319,
   "id": "cb977ee2-3529-4983-ba7a-23bd10d97ffc",
   "metadata": {},
   "outputs": [
    {
     "data": {
      "text/plain": [
       "array([79, 82, 90, 83, 93, 91, 82])"
      ]
     },
     "execution_count": 319,
     "metadata": {},
     "output_type": "execute_result"
    }
   ],
   "source": [
    "#satırlar bazında en yüksek puan, her 1 satır 1 öğrencinin verisine denk geliyor.\n",
    "np.amax(ogrenci_puanları, axis=1) #öğrencinin tüm sınavlardan aldığı en yüksek puanları verir"
   ]
  },
  {
   "cell_type": "code",
   "execution_count": 335,
   "id": "527762b9-1f4f-4edb-a205-c91b2a1edc4d",
   "metadata": {},
   "outputs": [
    {
     "name": "stdout",
     "output_type": "stream",
     "text": [
      "[52 49 53 58 49 49 58 54 48 53 48 48 51 40 41 47 45 52 45 43]\n",
      "[ 267  -39   13 -289  -93   19 -234   71 -101  -54 -101  311   -2 -148\n",
      "  118 -201   33 -357 -209   30]\n"
     ]
    },
    {
     "data": {
      "text/plain": [
       "array([[ 1.        , -0.21653418],\n",
       "       [-0.21653418,  1.        ]])"
      ]
     },
     "execution_count": 335,
     "metadata": {},
     "output_type": "execute_result"
    }
   ],
   "source": [
    "np.random.seed(42) #random state42, rastgele diziler içinde belirli bir diziyi seçer.\n",
    "notlar1=np.random.normal(loc=50,scale=5,size=20)\n",
    "notlar1=np.rint(notlar1).astype(int)\n",
    "print(notlar1)\n",
    "notlar2=.7*notlar1*np.random.normal(loc=0,scale=5,size=20)\n",
    "notlar2=np.rint(notlar2).astype(int)\n",
    "print(notlar2)\n",
    "corr=np.corrcoef(notlar1,notlar2)\n",
    "corr"
   ]
  },
  {
   "cell_type": "code",
   "execution_count": 343,
   "id": "2e97c03c-cdf4-4f4e-ade3-b62c2461708a",
   "metadata": {},
   "outputs": [
    {
     "data": {
      "text/plain": [
       "array([[1.        , 0.99568558],\n",
       "       [0.99568558, 1.        ]])"
      ]
     },
     "execution_count": 343,
     "metadata": {},
     "output_type": "execute_result"
    }
   ],
   "source": [
    "hava_sıcaklıkları=np.array([30,40,35,45,32,30,38])\n",
    "dondurma_tüketimi=np.array([4500,6000,5250,6800,4700,4500,5900])\n",
    "np.corrcoef(hava_sıcaklıkları, dondurma_tüketimi)\n"
   ]
  },
  {
   "cell_type": "code",
   "execution_count": null,
   "id": "739a5bae-06a6-43c6-9a4a-96f70a7af037",
   "metadata": {},
   "outputs": [],
   "source": [
    "#hava sıcaklıkları ile ısıtıcı satışlarının negatif yönlü korelasyondur.\n",
    "#alım gücü ve enflasyon da negatif yönlü korelasyondur.\n",
    "#sigara tüketimi ve sağlık\n",
    "#uyku süresi ve stres "
   ]
  },
  {
   "cell_type": "code",
   "execution_count": 346,
   "id": "9de1b17c-a232-4535-9ff2-5d94db4790e2",
   "metadata": {},
   "outputs": [],
   "source": [
    "memleket=np.array(['Ankara','Antalya','Ankara','Antalya', 'İzmir',\n",
    "          'İstanbul','İstanbul','İstanbul','İstanbul'])"
   ]
  },
  {
   "cell_type": "code",
   "execution_count": 348,
   "id": "b3c7c4d6-d58a-4139-aa1b-b86ea2ad582a",
   "metadata": {},
   "outputs": [
    {
     "data": {
      "text/plain": [
       "array(['Ankara', 'Antalya', 'İstanbul', 'İzmir'], dtype='<U8')"
      ]
     },
     "execution_count": 348,
     "metadata": {},
     "output_type": "execute_result"
    }
   ],
   "source": [
    "#Çoklu varsa eğer tek tek yazdırır.\n",
    "np.unique(memleket) "
   ]
  },
  {
   "cell_type": "code",
   "execution_count": 360,
   "id": "0bf412a6-bdd4-407f-bdfa-7b22672bff74",
   "metadata": {},
   "outputs": [
    {
     "name": "stdout",
     "output_type": "stream",
     "text": [
      "['Ankara' 'Antalya' 'İstanbul' 'İzmir']\n",
      "[2 2 4 1]\n"
     ]
    },
    {
     "data": {
      "text/plain": [
       "{'Ankara': 2, 'Antalya': 2, 'İstanbul': 4, 'İzmir': 1}"
      ]
     },
     "execution_count": 360,
     "metadata": {},
     "output_type": "execute_result"
    }
   ],
   "source": [
    "unique,counts=np.unique(memleket,return_counts=True)\n",
    "print(unique)\n",
    "print(counts)\n",
    "dict(zip(unique,counts)) #dict sözlük olarak tanımla ve unique ve counts'u birleştir demektir"
   ]
  },
  {
   "cell_type": "code",
   "execution_count": 364,
   "id": "7588ba93-de78-44a9-ae74-4a4da455d70f",
   "metadata": {},
   "outputs": [
    {
     "data": {
      "text/plain": [
       "array([['Ankara', '2'],\n",
       "       ['Antalya', '2'],\n",
       "       ['İstanbul', '4'],\n",
       "       ['İzmir', '1']], dtype='<U21')"
      ]
     },
     "execution_count": 364,
     "metadata": {},
     "output_type": "execute_result"
    }
   ],
   "source": [
    "frekans=np.asarray((unique,counts)).T\n",
    "frekans #iç içe liste haline getirmiş olduk."
   ]
  },
  {
   "cell_type": "code",
   "execution_count": null,
   "id": "4f4db5e6-9f56-4961-9f84-82a5f36f0100",
   "metadata": {},
   "outputs": [],
   "source": []
  }
 ],
 "metadata": {
  "kernelspec": {
   "display_name": "Python 3 (ipykernel)",
   "language": "python",
   "name": "python3"
  },
  "language_info": {
   "codemirror_mode": {
    "name": "ipython",
    "version": 3
   },
   "file_extension": ".py",
   "mimetype": "text/x-python",
   "name": "python",
   "nbconvert_exporter": "python",
   "pygments_lexer": "ipython3",
   "version": "3.12.4"
  }
 },
 "nbformat": 4,
 "nbformat_minor": 5
}
