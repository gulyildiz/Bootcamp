{
 "cells": [
  {
   "cell_type": "code",
   "execution_count": null,
   "id": "59389331-6498-4f4f-81ac-7066d42f627b",
   "metadata": {},
   "outputs": [],
   "source": [
    "## numpy: Numeric python\n",
    "sayısal Python\n",
    "kurulu değilse pip install numpy diyebilirsin"
   ]
  },
  {
   "cell_type": "code",
   "execution_count": 15,
   "id": "1caf2b44-e54f-4c45-9b78-cd38043d36dd",
   "metadata": {},
   "outputs": [],
   "source": [
    "#kütüphaneyi içe actarma\n",
    "import numpy as np"
   ]
  },
  {
   "cell_type": "code",
   "execution_count": 17,
   "id": "f7f3b714-a8bd-4620-bc8f-3018f51b570a",
   "metadata": {},
   "outputs": [
    {
     "data": {
      "text/plain": [
       "'1.26.4'"
      ]
     },
     "execution_count": 17,
     "metadata": {},
     "output_type": "execute_result"
    }
   ],
   "source": [
    "#versiyon kontrolü\n",
    "np.__version__"
   ]
  },
  {
   "cell_type": "code",
   "execution_count": 19,
   "id": "fc0067be-4e9e-4c0c-a173-af2deb014cca",
   "metadata": {},
   "outputs": [
    {
     "data": {
      "text/plain": [
       "array([ 1,  2,  3,  4,  5,  6,  7,  8,  9, 10])"
      ]
     },
     "execution_count": 19,
     "metadata": {},
     "output_type": "execute_result"
    }
   ],
   "source": [
    "#bir numpy dizisi oluşturma\n",
    "sayilar=np.array([1,2,3,4,5,6,7,8,9,10])\n",
    "sayilar"
   ]
  },
  {
   "cell_type": "code",
   "execution_count": 21,
   "id": "010552d8-7d3d-4c58-a333-1f0516c79d23",
   "metadata": {},
   "outputs": [
    {
     "data": {
      "text/plain": [
       "numpy.ndarray"
      ]
     },
     "execution_count": 21,
     "metadata": {},
     "output_type": "execute_result"
    }
   ],
   "source": [
    "#türünü kontrol et\n",
    "type(sayilar)"
   ]
  },
  {
   "cell_type": "code",
   "execution_count": 23,
   "id": "0f0d958a-a108-4b35-8077-0369e8c04b55",
   "metadata": {},
   "outputs": [
    {
     "data": {
      "text/plain": [
       "list"
      ]
     },
     "execution_count": 23,
     "metadata": {},
     "output_type": "execute_result"
    }
   ],
   "source": [
    "sayi_listesi=[1,2,3,4,5,6,7,8,9,10]\n",
    "type(sayi_listesi)"
   ]
  },
  {
   "cell_type": "code",
   "execution_count": 25,
   "id": "6c1c0010-c9ba-4db6-8049-e52742e11cda",
   "metadata": {},
   "outputs": [
    {
     "data": {
      "text/plain": [
       "array([  1,   2,   3,   4,   5,   6,   7,   8,   9,  10,  11,  12,  13,\n",
       "        14,  15,  16,  17,  18,  19,  20,  21,  22,  23,  24,  25,  26,\n",
       "        27,  28,  29,  30,  31,  32,  33,  34,  35,  36,  37,  38,  39,\n",
       "        40,  41,  42,  43,  44,  45,  46,  47,  48,  49,  50,  51,  52,\n",
       "        53,  54,  55,  56,  57,  58,  59,  60,  61,  62,  63,  64,  65,\n",
       "        66,  67,  68,  69,  70,  71,  72,  73,  74,  75,  76,  77,  78,\n",
       "        79,  80,  81,  82,  83,  84,  85,  86,  87,  88,  89,  90,  91,\n",
       "        92,  93,  94,  95,  96,  97,  98,  99, 100, 101, 102, 103, 104,\n",
       "       105, 106, 107, 108, 109, 110, 111, 112, 113, 114, 115, 116, 117,\n",
       "       118, 119, 120, 121, 122, 123, 124, 125, 126, 127, 128, 129, 130,\n",
       "       131, 132, 133, 134, 135, 136, 137, 138, 139, 140, 141, 142, 143,\n",
       "       144, 145, 146, 147, 148, 149, 150, 151, 152, 153, 154, 155, 156,\n",
       "       157, 158, 159, 160, 161, 162, 163, 164, 165, 166, 167, 168, 169,\n",
       "       170, 171, 172, 173, 174, 175, 176, 177, 178, 179, 180, 181, 182,\n",
       "       183, 184, 185, 186, 187, 188, 189, 190, 191, 192, 193, 194, 195,\n",
       "       196, 197, 198, 199, 200, 201, 202, 203, 204, 205, 206, 207, 208,\n",
       "       209, 210, 211, 212, 213, 214, 215, 216, 217, 218, 219, 220, 221,\n",
       "       222, 223, 224, 225, 226, 227, 228, 229, 230, 231, 232, 233, 234,\n",
       "       235, 236, 237, 238, 239, 240, 241, 242, 243, 244, 245, 246, 247,\n",
       "       248, 249, 250, 251, 252, 253, 254, 255, 256, 257, 258, 259, 260,\n",
       "       261, 262, 263, 264, 265, 266, 267, 268, 269, 270, 271, 272, 273,\n",
       "       274, 275, 276, 277, 278, 279, 280, 281, 282, 283, 284, 285, 286,\n",
       "       287, 288, 289, 290, 291, 292, 293, 294, 295, 296, 297, 298, 299,\n",
       "       300, 301, 302, 303, 304, 305, 306, 307, 308, 309, 310, 311, 312,\n",
       "       313, 314, 315, 316, 317, 318, 319, 320, 321, 322, 323, 324, 325,\n",
       "       326, 327, 328, 329, 330, 331, 332, 333, 334, 335, 336, 337, 338,\n",
       "       339, 340, 341, 342, 343, 344, 345, 346, 347, 348, 349, 350, 351,\n",
       "       352, 353, 354, 355, 356, 357, 358, 359, 360, 361, 362, 363, 364,\n",
       "       365, 366, 367, 368, 369, 370, 371, 372, 373, 374, 375, 376, 377,\n",
       "       378, 379, 380, 381, 382, 383, 384, 385, 386, 387, 388, 389, 390,\n",
       "       391, 392, 393, 394, 395, 396, 397, 398, 399, 400, 401, 402, 403,\n",
       "       404, 405, 406, 407, 408, 409, 410, 411, 412, 413, 414, 415, 416,\n",
       "       417, 418, 419, 420, 421, 422, 423, 424, 425, 426, 427, 428, 429,\n",
       "       430, 431, 432, 433, 434, 435, 436, 437, 438, 439, 440, 441, 442,\n",
       "       443, 444, 445, 446, 447, 448, 449, 450, 451, 452, 453, 454, 455,\n",
       "       456, 457, 458, 459, 460, 461, 462, 463, 464, 465, 466, 467, 468,\n",
       "       469, 470, 471, 472, 473, 474, 475, 476, 477, 478, 479, 480, 481,\n",
       "       482, 483, 484, 485, 486, 487, 488, 489, 490, 491, 492, 493, 494,\n",
       "       495, 496, 497, 498, 499])"
      ]
     },
     "execution_count": 25,
     "metadata": {},
     "output_type": "execute_result"
    }
   ],
   "source": [
    "np_sayi_listesi=np.array(list(range(1,500)))\n",
    "np_sayi_listesi"
   ]
  },
  {
   "cell_type": "code",
   "execution_count": 27,
   "id": "675deca5-7cc0-4220-a113-6a677439de7f",
   "metadata": {},
   "outputs": [
    {
     "data": {
      "text/plain": [
       "dtype('int32')"
      ]
     },
     "execution_count": 27,
     "metadata": {},
     "output_type": "execute_result"
    }
   ],
   "source": [
    "np_sayi_listesi.dtype #veri türünü görmüş olduk. dtype özelliktir"
   ]
  },
  {
   "cell_type": "code",
   "execution_count": 36,
   "id": "0841815c-32cd-453b-b2cf-13c8831e419a",
   "metadata": {},
   "outputs": [
    {
     "data": {
      "text/plain": [
       "4"
      ]
     },
     "execution_count": 36,
     "metadata": {},
     "output_type": "execute_result"
    }
   ],
   "source": [
    "#Items, veri tipinin byte cinsinden türünü verir. 32/8 1 byte 8 bit 4 byte\n",
    "np_sayi_listesi.itemsize"
   ]
  },
  {
   "cell_type": "code",
   "execution_count": 38,
   "id": "f15270e5-f017-4195-a75e-f4c27830e234",
   "metadata": {},
   "outputs": [
    {
     "data": {
      "text/plain": [
       "'0b1010'"
      ]
     },
     "execution_count": 38,
     "metadata": {},
     "output_type": "execute_result"
    }
   ],
   "source": [
    "#10 sayısının 2li sistemdeki karşılığı\n",
    "bin(10)"
   ]
  },
  {
   "cell_type": "code",
   "execution_count": null,
   "id": "382a56c3-74dc-45a7-99c6-62dc518c0ad9",
   "metadata": {},
   "outputs": [],
   "source": [
    "#100= 0*0+0*10+1*100\n"
   ]
  },
  {
   "cell_type": "code",
   "execution_count": null,
   "id": "bd7ce9b3-7747-4033-8a8c-ace2dc80764e",
   "metadata": {},
   "outputs": [],
   "source": [
    "#1111 (2**4)-1, kolay yolu "
   ]
  },
  {
   "cell_type": "code",
   "execution_count": 40,
   "id": "26e376d4-14c1-4152-955e-c84e02044bf8",
   "metadata": {},
   "outputs": [
    {
     "data": {
      "text/plain": [
       "15"
      ]
     },
     "execution_count": 40,
     "metadata": {},
     "output_type": "execute_result"
    }
   ],
   "source": [
    "(2**4)-1"
   ]
  },
  {
   "cell_type": "code",
   "execution_count": 46,
   "id": "265912fa-7dec-4fba-b58c-5c076aec2f86",
   "metadata": {},
   "outputs": [
    {
     "data": {
      "text/plain": [
       "31"
      ]
     },
     "execution_count": 46,
     "metadata": {},
     "output_type": "execute_result"
    }
   ],
   "source": [
    "(2**5)-1"
   ]
  },
  {
   "cell_type": "code",
   "execution_count": 53,
   "id": "5302e81f-3e83-4fef-8719-9145aaac8004",
   "metadata": {},
   "outputs": [
    {
     "data": {
      "text/plain": [
       "array(['Kırmızı', 'Yeşil', 'Mavi'], dtype='<U7')"
      ]
     },
     "execution_count": 53,
     "metadata": {},
     "output_type": "execute_result"
    }
   ],
   "source": [
    "#Numpy farklı veri türlerini alabilir.\n",
    "renkler=np.array(['Kırmızı','Yeşil','Mavi']) #rgb kodlama\n",
    "renkler"
   ]
  },
  {
   "cell_type": "code",
   "execution_count": null,
   "id": "95728ae5-1c2a-4cb4-9bb4-887f6c13ac98",
   "metadata": {},
   "outputs": [],
   "source": [
    "#U7 unicode string demektir. 7 karakterle ifade ediliyor, kırmızı en uzun metni seçti."
   ]
  },
  {
   "cell_type": "code",
   "execution_count": 55,
   "id": "416e0a81-dad8-477d-bb07-ddcbdd8d88f3",
   "metadata": {},
   "outputs": [
    {
     "data": {
      "text/plain": [
       "28"
      ]
     },
     "execution_count": 55,
     "metadata": {},
     "output_type": "execute_result"
    }
   ],
   "source": [
    "renkler.itemsize "
   ]
  },
  {
   "cell_type": "markdown",
   "id": "26b68317-8222-4c85-ae57-f58eb3ee0360",
   "metadata": {},
   "source": [
    "### ascii tablosunda her bir karakter 4 bitlik ifadeyle gösterilir."
   ]
  },
  {
   "cell_type": "code",
   "execution_count": 62,
   "id": "3c8c1216-85d0-4b98-8ec1-f8218c33ce33",
   "metadata": {},
   "outputs": [
    {
     "data": {
      "text/plain": [
       "array([ 1,  2,  3,  4,  5,  6,  7,  8,  9, 10])"
      ]
     },
     "execution_count": 62,
     "metadata": {},
     "output_type": "execute_result"
    }
   ],
   "source": [
    "sayi_listesi=list(range(1,11))\n",
    "np_sayi=np.array(sayi_listesi)\n",
    "np_sayi #1 liste 1 boyutlu dizidir."
   ]
  },
  {
   "cell_type": "code",
   "execution_count": 66,
   "id": "fbed6870-bf1f-4832-b872-9dda7938d6b4",
   "metadata": {},
   "outputs": [
    {
     "data": {
      "text/plain": [
       "1"
      ]
     },
     "execution_count": 66,
     "metadata": {},
     "output_type": "execute_result"
    }
   ],
   "source": [
    "#dizilerde boyutlar, dizinin boyutunu gösterir\n",
    "np_sayi.ndim"
   ]
  },
  {
   "cell_type": "code",
   "execution_count": 74,
   "id": "9097dec8-cdde-4160-ae9d-b1194fa0f417",
   "metadata": {},
   "outputs": [
    {
     "data": {
      "text/plain": [
       "1"
      ]
     },
     "execution_count": 74,
     "metadata": {},
     "output_type": "execute_result"
    }
   ],
   "source": [
    "np_sayi[0] #np dizisindeki birinci sayıyı getirir."
   ]
  },
  {
   "cell_type": "code",
   "execution_count": 68,
   "id": "e19fea2f-81d3-435e-8efa-882f4792c95f",
   "metadata": {},
   "outputs": [
    {
     "data": {
      "text/plain": [
       "array([[1, 2, 3],\n",
       "       [4, 5, 6],\n",
       "       [7, 8, 9]])"
      ]
     },
     "execution_count": 68,
     "metadata": {},
     "output_type": "execute_result"
    }
   ],
   "source": [
    "satir1=[1,2,3]\n",
    "satir2=[4,5,6]\n",
    "satir3=[7,8,9]\n",
    "matris=np.array([satir1,satir2,satir3])\n",
    "matris"
   ]
  },
  {
   "cell_type": "code",
   "execution_count": 70,
   "id": "d32abcd6-f41e-4cb9-a841-a1d36a39e4f9",
   "metadata": {},
   "outputs": [
    {
     "data": {
      "text/plain": [
       "2"
      ]
     },
     "execution_count": 70,
     "metadata": {},
     "output_type": "execute_result"
    }
   ],
   "source": [
    "matris.ndim "
   ]
  },
  {
   "cell_type": "code",
   "execution_count": null,
   "id": "dc4bba60-b689-4fa9-9c79-75b67238406e",
   "metadata": {},
   "outputs": [],
   "source": [
    "#boyut demek iç içe liste sayısı demektir."
   ]
  },
  {
   "cell_type": "code",
   "execution_count": 94,
   "id": "024e4d9a-07d6-42c8-95be-3f0b8a9de7b8",
   "metadata": {},
   "outputs": [
    {
     "data": {
      "text/plain": [
       "array([[1, 2, 3],\n",
       "       [4, 5, 6],\n",
       "       [7, 8, 9]])"
      ]
     },
     "execution_count": 94,
     "metadata": {},
     "output_type": "execute_result"
    }
   ],
   "source": [
    "matris[0:3] #dilimlemede bitişe kadar."
   ]
  },
  {
   "cell_type": "code",
   "execution_count": 98,
   "id": "3ac70ca3-dbbf-4631-9b67-915e7a145a16",
   "metadata": {},
   "outputs": [
    {
     "data": {
      "text/plain": [
       "array([7, 8, 9])"
      ]
     },
     "execution_count": 98,
     "metadata": {},
     "output_type": "execute_result"
    }
   ],
   "source": [
    "matris[2] #index numarası verileni getir demektir."
   ]
  },
  {
   "cell_type": "code",
   "execution_count": 100,
   "id": "6b1051fc-deee-4169-a455-e8f5fafab314",
   "metadata": {},
   "outputs": [
    {
     "data": {
      "text/plain": [
       "array([4, 5, 6])"
      ]
     },
     "execution_count": 100,
     "metadata": {},
     "output_type": "execute_result"
    }
   ],
   "source": [
    "matris[1]"
   ]
  },
  {
   "cell_type": "code",
   "execution_count": 102,
   "id": "0d3dae5a-fd41-4396-8263-162d9e4d834f",
   "metadata": {},
   "outputs": [
    {
     "data": {
      "text/plain": [
       "array([4, 5, 6])"
      ]
     },
     "execution_count": 102,
     "metadata": {},
     "output_type": "execute_result"
    }
   ],
   "source": [
    "matris_satir=matris[1]\n",
    "matris_satir"
   ]
  },
  {
   "cell_type": "code",
   "execution_count": 104,
   "id": "2da76781-e6af-4e4e-ab05-77c9ce73e9c5",
   "metadata": {},
   "outputs": [
    {
     "data": {
      "text/plain": [
       "5"
      ]
     },
     "execution_count": 104,
     "metadata": {},
     "output_type": "execute_result"
    }
   ],
   "source": [
    "matris_satir[1]"
   ]
  },
  {
   "cell_type": "code",
   "execution_count": 108,
   "id": "954976dd-0467-47f2-83a7-8f2998cb38ae",
   "metadata": {},
   "outputs": [
    {
     "data": {
      "text/plain": [
       "array([], shape=(0, 3), dtype=int32)"
      ]
     },
     "execution_count": 108,
     "metadata": {},
     "output_type": "execute_result"
    }
   ],
   "source": [
    "matris[1:1]"
   ]
  },
  {
   "cell_type": "code",
   "execution_count": 112,
   "id": "294e83be-cfcb-459f-8851-af2bf6f01ba9",
   "metadata": {},
   "outputs": [
    {
     "data": {
      "text/plain": [
       "5"
      ]
     },
     "execution_count": 112,
     "metadata": {},
     "output_type": "execute_result"
    }
   ],
   "source": [
    "matris[1][1] #satırı seç daha sonra listenin elemanını seç"
   ]
  },
  {
   "cell_type": "code",
   "execution_count": 116,
   "id": "f084aac6-5d22-4dfb-98de-98eb1ba45636",
   "metadata": {},
   "outputs": [
    {
     "data": {
      "text/plain": [
       "9"
      ]
     },
     "execution_count": 116,
     "metadata": {},
     "output_type": "execute_result"
    }
   ],
   "source": [
    "matris[2][2]"
   ]
  },
  {
   "cell_type": "code",
   "execution_count": 120,
   "id": "7fe945d5-84d4-4985-8860-64c42631c1ba",
   "metadata": {},
   "outputs": [
    {
     "data": {
      "text/plain": [
       "(3, 3)"
      ]
     },
     "execution_count": 120,
     "metadata": {},
     "output_type": "execute_result"
    }
   ],
   "source": [
    "#shape=satır,sütun sayısını verir\n",
    "matris.shape #3 satır ve 3 sütundan oluşur."
   ]
  },
  {
   "cell_type": "code",
   "execution_count": null,
   "id": "aafa3ad4-eab2-4f5b-a126-1a44cc8e1596",
   "metadata": {},
   "outputs": [],
   "source": []
  },
  {
   "cell_type": "code",
   "execution_count": 122,
   "id": "b6bd84b3-e701-43d3-9f80-2dd652c90162",
   "metadata": {},
   "outputs": [
    {
     "data": {
      "text/plain": [
       "array([[1, 2, 3],\n",
       "       [4, 5, 6]])"
      ]
     },
     "execution_count": 122,
     "metadata": {},
     "output_type": "execute_result"
    }
   ],
   "source": [
    "satir1=[1,2,3]\n",
    "satir2=[4,5,6]\n",
    "matris=np.array([satir1,satir2])\n",
    "matris"
   ]
  },
  {
   "cell_type": "code",
   "execution_count": 126,
   "id": "cb3cd059-6dfb-4ecd-957d-43c997c33258",
   "metadata": {},
   "outputs": [
    {
     "data": {
      "text/plain": [
       "2"
      ]
     },
     "execution_count": 126,
     "metadata": {},
     "output_type": "execute_result"
    }
   ],
   "source": [
    "matris.ndim #ndim boyut demektir."
   ]
  },
  {
   "cell_type": "code",
   "execution_count": 128,
   "id": "0ab03a2a-ebb4-4611-bed4-9789e569a5bb",
   "metadata": {},
   "outputs": [
    {
     "data": {
      "text/plain": [
       "array([ 0,  2,  4,  6,  8, 10])"
      ]
     },
     "execution_count": 128,
     "metadata": {},
     "output_type": "execute_result"
    }
   ],
   "source": [
    "#numpy dizi oluşturma\n",
    "cift_sayi=np.arange(0,11,2) #arange bir metottur\n",
    "cift_sayi"
   ]
  },
  {
   "cell_type": "code",
   "execution_count": 134,
   "id": "0ce18833-660c-4a00-bece-2b81a6006aab",
   "metadata": {},
   "outputs": [
    {
     "data": {
      "text/plain": [
       "array([1., 1., 1., 1., 1., 1.])"
      ]
     },
     "execution_count": 134,
     "metadata": {},
     "output_type": "execute_result"
    }
   ],
   "source": [
    "#birlerden oluşan tek boyutlu dizi oluştur\n",
    "birler=np.ones(6)\n",
    "birler"
   ]
  },
  {
   "cell_type": "code",
   "execution_count": 139,
   "id": "e637e18c-a53d-410f-9fbb-43389df46c11",
   "metadata": {},
   "outputs": [
    {
     "data": {
      "text/plain": [
       "array([[1., 1., 1.],\n",
       "       [1., 1., 1.]])"
      ]
     },
     "execution_count": 139,
     "metadata": {},
     "output_type": "execute_result"
    }
   ],
   "source": [
    "birler_matris=np.ones((2,3))\n",
    "birler_matris"
   ]
  },
  {
   "cell_type": "code",
   "execution_count": 141,
   "id": "fc97645f-7daf-4cac-be3c-2991701e3e3c",
   "metadata": {},
   "outputs": [
    {
     "data": {
      "text/plain": [
       "array([0., 0., 0., 0., 0., 0.])"
      ]
     },
     "execution_count": 141,
     "metadata": {},
     "output_type": "execute_result"
    }
   ],
   "source": [
    "#sıfırlardan oluşan örneğinin oluşturalım\n",
    "sifirlar=np.zeros(6)\n",
    "sifirlar"
   ]
  },
  {
   "cell_type": "code",
   "execution_count": 143,
   "id": "e85c4d53-d3b1-4814-97f9-8ff0b7ca9df2",
   "metadata": {},
   "outputs": [
    {
     "data": {
      "text/plain": [
       "1"
      ]
     },
     "execution_count": 143,
     "metadata": {},
     "output_type": "execute_result"
    }
   ],
   "source": [
    "sifirlar.ndim"
   ]
  },
  {
   "cell_type": "code",
   "execution_count": 147,
   "id": "5aad35a0-b88b-49c2-a0aa-1602b413b04b",
   "metadata": {},
   "outputs": [
    {
     "data": {
      "text/plain": [
       "(6,)"
      ]
     },
     "execution_count": 147,
     "metadata": {},
     "output_type": "execute_result"
    }
   ],
   "source": [
    "sifirlar.shape"
   ]
  },
  {
   "cell_type": "code",
   "execution_count": 149,
   "id": "9eaea239-a6f0-48f2-a847-da672ff93617",
   "metadata": {},
   "outputs": [
    {
     "data": {
      "text/plain": [
       "array([[1., 0., 0., 0., 0.],\n",
       "       [0., 1., 0., 0., 0.],\n",
       "       [0., 0., 1., 0., 0.],\n",
       "       [0., 0., 0., 1., 0.],\n",
       "       [0., 0., 0., 0., 1.]])"
      ]
     },
     "execution_count": 149,
     "metadata": {},
     "output_type": "execute_result"
    }
   ],
   "source": [
    "np.eye(5)"
   ]
  },
  {
   "cell_type": "code",
   "execution_count": 151,
   "id": "1eb4fc1e-0588-477b-8ef9-92a59e40adc1",
   "metadata": {},
   "outputs": [
    {
     "data": {
      "text/plain": [
       "(5, 5)"
      ]
     },
     "execution_count": 151,
     "metadata": {},
     "output_type": "execute_result"
    }
   ],
   "source": [
    "np.eye(5).shape"
   ]
  },
  {
   "cell_type": "code",
   "execution_count": 167,
   "id": "fc29667a-3f6b-41a3-bdca-ee503c4ee670",
   "metadata": {},
   "outputs": [
    {
     "name": "stdout",
     "output_type": "stream",
     "text": [
      "92\n",
      "5\n",
      "91\n",
      "34\n",
      "57\n",
      "20\n",
      "40\n",
      "51\n",
      "47\n",
      "12\n",
      "97\n",
      "57\n",
      "54\n",
      "87\n",
      "11\n",
      "5\n",
      "64\n",
      "86\n",
      "67\n",
      "12\n",
      "80\n",
      "33\n",
      "80\n",
      "79\n",
      "41\n",
      "55\n",
      "37\n",
      "5\n",
      "10\n",
      "70\n",
      "43\n",
      "76\n",
      "66\n",
      "8\n",
      "37\n",
      "85\n",
      "61\n",
      "56\n",
      "13\n",
      "97\n",
      "39\n",
      "6\n",
      "26\n",
      "70\n",
      "70\n",
      "98\n",
      "82\n",
      "89\n",
      "1\n",
      "84\n",
      "68\n",
      "76\n",
      "52\n",
      "64\n",
      "85\n",
      "89\n",
      "45\n",
      "6\n",
      "2\n",
      "55\n",
      "80\n",
      "44\n",
      "42\n",
      "11\n",
      "15\n",
      "1\n",
      "90\n",
      "4\n",
      "89\n",
      "34\n",
      "79\n",
      "10\n",
      "74\n",
      "5\n",
      "55\n",
      "69\n",
      "26\n",
      "97\n",
      "61\n",
      "14\n",
      "34\n",
      "87\n",
      "88\n",
      "11\n",
      "25\n",
      "49\n",
      "82\n",
      "62\n",
      "32\n",
      "43\n",
      "77\n",
      "53\n",
      "77\n",
      "60\n",
      "85\n",
      "64\n",
      "22\n",
      "74\n",
      "5\n",
      "77\n",
      "42\n",
      "66\n",
      "61\n",
      "23\n",
      "7\n",
      "2\n",
      "71\n",
      "98\n",
      "7\n",
      "47\n",
      "6\n",
      "81\n",
      "3\n",
      "75\n",
      "99\n",
      "16\n",
      "25\n",
      "14\n",
      "30\n",
      "44\n",
      "100\n",
      "44\n",
      "81\n",
      "51\n",
      "8\n",
      "9\n",
      "52\n",
      "20\n",
      "48\n",
      "68\n",
      "49\n",
      "28\n",
      "88\n",
      "58\n",
      "43\n",
      "7\n",
      "77\n",
      "82\n",
      "57\n",
      "52\n",
      "33\n",
      "79\n",
      "68\n",
      "89\n",
      "22\n",
      "19\n",
      "99\n",
      "41\n",
      "44\n",
      "5\n",
      "21\n",
      "33\n",
      "96\n",
      "94\n",
      "81\n",
      "30\n",
      "33\n",
      "100\n",
      "46\n",
      "33\n",
      "39\n",
      "79\n",
      "72\n",
      "5\n",
      "84\n",
      "28\n",
      "62\n",
      "15\n",
      "15\n",
      "1\n",
      "18\n",
      "66\n",
      "16\n",
      "92\n",
      "92\n",
      "23\n",
      "8\n",
      "34\n",
      "98\n",
      "14\n",
      "86\n",
      "39\n",
      "73\n",
      "72\n",
      "75\n",
      "60\n",
      "17\n",
      "76\n",
      "32\n",
      "93\n",
      "59\n",
      "25\n",
      "75\n",
      "14\n",
      "5\n",
      "92\n",
      "85\n",
      "65\n",
      "30\n",
      "69\n",
      "100\n",
      "67\n",
      "10\n",
      "16\n",
      "45\n",
      "81\n",
      "78\n",
      "61\n",
      "8\n",
      "83\n",
      "92\n",
      "3\n",
      "59\n",
      "76\n",
      "39\n",
      "87\n",
      "45\n",
      "84\n",
      "16\n",
      "75\n",
      "64\n",
      "9\n",
      "30\n",
      "36\n",
      "87\n",
      "69\n",
      "11\n",
      "56\n",
      "70\n",
      "21\n",
      "15\n",
      "7\n",
      "77\n",
      "74\n",
      "46\n",
      "98\n",
      "44\n",
      "77\n",
      "49\n",
      "90\n",
      "44\n",
      "53\n",
      "18\n",
      "52\n",
      "71\n",
      "61\n",
      "90\n",
      "25\n",
      "58\n",
      "100\n",
      "91\n",
      "91\n",
      "37\n",
      "52\n",
      "45\n",
      "82\n",
      "46\n",
      "58\n",
      "51\n",
      "71\n",
      "70\n",
      "61\n",
      "26\n",
      "8\n",
      "54\n",
      "7\n",
      "63\n",
      "81\n",
      "3\n",
      "100\n",
      "52\n",
      "52\n",
      "92\n",
      "14\n",
      "45\n",
      "42\n",
      "9\n",
      "80\n",
      "54\n",
      "8\n",
      "75\n",
      "12\n",
      "15\n",
      "73\n",
      "50\n",
      "97\n",
      "29\n",
      "46\n",
      "94\n",
      "46\n",
      "13\n",
      "80\n",
      "91\n",
      "17\n",
      "39\n",
      "32\n",
      "57\n",
      "86\n",
      "4\n",
      "33\n",
      "65\n",
      "54\n",
      "66\n",
      "38\n",
      "89\n",
      "71\n",
      "14\n",
      "96\n",
      "78\n",
      "57\n",
      "85\n",
      "47\n",
      "6\n",
      "8\n",
      "99\n",
      "32\n",
      "19\n",
      "1\n",
      "94\n",
      "86\n",
      "31\n",
      "61\n",
      "91\n",
      "90\n",
      "45\n",
      "98\n",
      "73\n",
      "86\n",
      "50\n",
      "87\n",
      "61\n",
      "86\n",
      "70\n",
      "20\n",
      "33\n",
      "68\n",
      "31\n",
      "39\n",
      "4\n",
      "34\n",
      "21\n",
      "12\n",
      "90\n",
      "25\n",
      "61\n",
      "28\n",
      "29\n",
      "85\n",
      "100\n",
      "85\n",
      "99\n",
      "93\n",
      "31\n",
      "39\n",
      "43\n",
      "4\n",
      "10\n",
      "64\n",
      "27\n",
      "50\n",
      "39\n",
      "77\n",
      "74\n",
      "27\n",
      "93\n",
      "63\n",
      "61\n",
      "99\n",
      "64\n",
      "55\n",
      "47\n",
      "6\n",
      "97\n",
      "45\n",
      "58\n",
      "78\n",
      "47\n",
      "15\n",
      "75\n",
      "7\n",
      "42\n",
      "41\n",
      "25\n",
      "53\n",
      "44\n",
      "20\n",
      "67\n",
      "9\n",
      "23\n",
      "71\n",
      "26\n",
      "16\n",
      "49\n",
      "59\n",
      "53\n",
      "68\n",
      "56\n",
      "48\n",
      "25\n",
      "62\n",
      "53\n",
      "76\n",
      "35\n",
      "17\n",
      "50\n",
      "30\n",
      "29\n",
      "3\n",
      "30\n",
      "58\n",
      "34\n",
      "56\n",
      "94\n",
      "17\n",
      "98\n",
      "86\n",
      "30\n",
      "62\n",
      "77\n",
      "78\n",
      "1\n",
      "40\n",
      "28\n",
      "34\n",
      "12\n",
      "79\n",
      "41\n",
      "41\n",
      "69\n",
      "97\n",
      "47\n",
      "96\n",
      "42\n",
      "80\n",
      "11\n",
      "4\n",
      "68\n",
      "97\n",
      "46\n",
      "19\n",
      "76\n",
      "32\n",
      "44\n",
      "34\n",
      "40\n",
      "15\n",
      "40\n",
      "29\n",
      "53\n",
      "37\n",
      "56\n",
      "63\n",
      "94\n",
      "72\n",
      "68\n",
      "40\n",
      "100\n",
      "22\n",
      "49\n",
      "9\n",
      "78\n",
      "65\n",
      "8\n",
      "84\n",
      "11\n",
      "48\n",
      "95\n",
      "44\n",
      "68\n",
      "3\n",
      "77\n",
      "97\n",
      "16\n",
      "57\n",
      "84\n",
      "11\n",
      "26\n",
      "15\n",
      "72\n",
      "8\n",
      "43\n",
      "62\n",
      "89\n",
      "23\n",
      "80\n",
      "67\n",
      "99\n",
      "99\n",
      "85\n",
      "76\n",
      "96\n",
      "50\n",
      "17\n",
      "99\n",
      "41\n",
      "72\n",
      "28\n",
      "3\n",
      "39\n",
      "69\n",
      "30\n",
      "43\n",
      "56\n",
      "95\n",
      "64\n",
      "96\n",
      "23\n",
      "4\n",
      "50\n",
      "36\n",
      "56\n",
      "7\n",
      "75\n",
      "11\n",
      "43\n",
      "58\n",
      "10\n",
      "32\n",
      "91\n",
      "87\n",
      "20\n",
      "65\n",
      "68\n",
      "94\n",
      "86\n",
      "44\n",
      "25\n",
      "6\n",
      "79\n",
      "28\n",
      "88\n",
      "10\n",
      "71\n",
      "87\n",
      "49\n",
      "59\n",
      "53\n",
      "32\n",
      "60\n",
      "68\n",
      "45\n",
      "78\n",
      "85\n",
      "38\n",
      "83\n",
      "14\n",
      "82\n",
      "39\n",
      "85\n",
      "37\n",
      "84\n",
      "47\n",
      "49\n",
      "46\n",
      "42\n",
      "71\n",
      "37\n",
      "60\n",
      "11\n",
      "21\n",
      "64\n",
      "13\n",
      "11\n",
      "34\n",
      "22\n",
      "20\n",
      "28\n",
      "28\n",
      "14\n",
      "48\n",
      "34\n",
      "70\n",
      "2\n",
      "52\n",
      "79\n",
      "63\n",
      "79\n",
      "29\n",
      "13\n",
      "88\n",
      "80\n",
      "66\n",
      "26\n",
      "29\n",
      "43\n",
      "12\n",
      "10\n",
      "3\n",
      "96\n",
      "67\n",
      "3\n",
      "95\n",
      "3\n",
      "59\n",
      "53\n",
      "21\n",
      "89\n",
      "61\n",
      "35\n",
      "48\n",
      "51\n",
      "73\n",
      "24\n",
      "49\n",
      "13\n",
      "100\n",
      "30\n",
      "76\n",
      "96\n",
      "97\n",
      "10\n",
      "54\n",
      "45\n",
      "88\n",
      "12\n",
      "100\n",
      "1\n",
      "77\n",
      "15\n",
      "50\n",
      "71\n",
      "44\n",
      "14\n",
      "47\n",
      "78\n",
      "8\n",
      "83\n",
      "66\n",
      "47\n",
      "28\n",
      "43\n",
      "29\n",
      "14\n",
      "93\n",
      "77\n",
      "98\n",
      "51\n",
      "1\n",
      "39\n",
      "6\n",
      "68\n",
      "15\n",
      "74\n",
      "2\n",
      "58\n",
      "43\n",
      "69\n",
      "90\n",
      "78\n",
      "4\n",
      "49\n",
      "28\n",
      "59\n",
      "100\n",
      "65\n",
      "38\n",
      "65\n",
      "48\n",
      "55\n",
      "18\n",
      "81\n",
      "68\n",
      "22\n",
      "18\n",
      "50\n",
      "29\n",
      "6\n",
      "63\n",
      "14\n",
      "27\n",
      "92\n",
      "47\n",
      "89\n",
      "4\n",
      "68\n",
      "41\n",
      "65\n",
      "32\n",
      "28\n",
      "42\n",
      "85\n",
      "98\n",
      "60\n",
      "35\n",
      "29\n",
      "45\n",
      "85\n",
      "66\n",
      "78\n",
      "15\n",
      "75\n",
      "85\n",
      "20\n",
      "35\n",
      "98\n",
      "96\n",
      "59\n",
      "12\n",
      "58\n",
      "44\n",
      "73\n",
      "69\n",
      "89\n",
      "49\n",
      "83\n",
      "67\n",
      "31\n",
      "56\n",
      "7\n",
      "38\n",
      "18\n",
      "23\n",
      "53\n",
      "95\n",
      "23\n",
      "69\n",
      "39\n",
      "45\n",
      "64\n",
      "25\n",
      "80\n",
      "34\n",
      "95\n",
      "53\n",
      "52\n",
      "63\n",
      "32\n",
      "29\n",
      "49\n",
      "15\n",
      "83\n",
      "11\n",
      "19\n",
      "7\n",
      "27\n",
      "14\n",
      "69\n",
      "1\n",
      "49\n",
      "11\n",
      "95\n",
      "77\n",
      "28\n",
      "67\n",
      "48\n",
      "95\n",
      "44\n",
      "54\n",
      "39\n",
      "26\n",
      "96\n",
      "56\n",
      "90\n",
      "92\n",
      "23\n",
      "19\n",
      "84\n",
      "96\n",
      "84\n",
      "53\n",
      "54\n",
      "90\n",
      "68\n",
      "52\n",
      "34\n",
      "32\n",
      "51\n",
      "1\n",
      "16\n",
      "47\n",
      "55\n",
      "10\n",
      "83\n",
      "80\n",
      "27\n",
      "15\n",
      "54\n",
      "79\n",
      "35\n",
      "10\n",
      "94\n",
      "57\n",
      "16\n",
      "72\n",
      "61\n",
      "12\n",
      "16\n",
      "99\n",
      "91\n",
      "49\n",
      "94\n",
      "5\n",
      "63\n",
      "14\n",
      "12\n",
      "92\n",
      "58\n",
      "75\n",
      "85\n",
      "95\n",
      "22\n",
      "5\n",
      "63\n",
      "80\n",
      "59\n",
      "13\n",
      "52\n",
      "18\n",
      "39\n",
      "20\n",
      "99\n",
      "15\n",
      "28\n",
      "52\n",
      "12\n",
      "31\n",
      "30\n",
      "19\n",
      "43\n",
      "92\n",
      "64\n",
      "80\n",
      "80\n",
      "12\n",
      "94\n",
      "44\n",
      "14\n",
      "89\n",
      "52\n",
      "53\n",
      "16\n",
      "75\n",
      "43\n",
      "27\n",
      "70\n",
      "76\n",
      "14\n",
      "96\n",
      "10\n",
      "96\n",
      "58\n",
      "81\n",
      "20\n",
      "89\n",
      "45\n",
      "51\n",
      "28\n",
      "11\n",
      "83\n",
      "89\n",
      "94\n",
      "45\n",
      "33\n",
      "3\n",
      "94\n",
      "75\n",
      "36\n",
      "95\n",
      "17\n",
      "25\n",
      "69\n",
      "12\n",
      "26\n",
      "8\n",
      "81\n",
      "98\n",
      "6\n",
      "4\n",
      "98\n",
      "49\n",
      "72\n",
      "64\n",
      "18\n",
      "33\n",
      "69\n",
      "60\n",
      "25\n",
      "29\n",
      "60\n",
      "8\n",
      "73\n",
      "74\n",
      "32\n",
      "19\n",
      "17\n",
      "52\n",
      "58\n",
      "9\n",
      "60\n",
      "91\n",
      "26\n",
      "6\n",
      "74\n",
      "75\n",
      "30\n",
      "3\n",
      "31\n",
      "2\n",
      "92\n",
      "80\n",
      "53\n",
      "71\n",
      "61\n",
      "82\n",
      "70\n",
      "23\n",
      "37\n",
      "90\n",
      "69\n",
      "61\n",
      "21\n",
      "35\n",
      "14\n",
      "61\n",
      "77\n",
      "81\n",
      "52\n",
      "58\n",
      "40\n",
      "29\n",
      "64\n",
      "41\n",
      "18\n",
      "89\n",
      "36\n",
      "27\n",
      "86\n",
      "75\n",
      "2\n",
      "72\n",
      "2\n",
      "75\n",
      "48\n",
      "84\n",
      "49\n",
      "98\n",
      "89\n",
      "82\n",
      "34\n",
      "7\n",
      "55\n",
      "7\n",
      "14\n",
      "48\n",
      "39\n",
      "37\n",
      "50\n",
      "81\n",
      "3\n",
      "38\n",
      "9\n",
      "37\n",
      "20\n",
      "40\n",
      "32\n",
      "1\n",
      "92\n",
      "3\n",
      "46\n",
      "72\n",
      "53\n",
      "34\n",
      "81\n",
      "64\n",
      "96\n",
      "24\n",
      "45\n",
      "57\n",
      "80\n",
      "45\n",
      "41\n",
      "59\n",
      "13\n",
      "14\n",
      "56\n",
      "53\n",
      "41\n",
      "53\n",
      "86\n",
      "88\n",
      "52\n",
      "62\n",
      "9\n",
      "64\n",
      "85\n",
      "27\n",
      "78\n",
      "5\n",
      "45\n",
      "8\n",
      "96\n",
      "98\n",
      "57\n",
      "35\n",
      "60\n",
      "9\n",
      "20\n",
      "79\n",
      "60\n",
      "56\n"
     ]
    }
   ],
   "source": [
    "#rastgele sayılar üretelim, büyük sayılar kuralı\n",
    "for i in range(1000):\n",
    "    print(np.random.randint(1,101)) #0dan 5 e kadar 100 tane sayı üretir."
   ]
  },
  {
   "cell_type": "code",
   "execution_count": 173,
   "id": "d42d04ce-fe03-4ff6-898f-08a69cca9ba8",
   "metadata": {},
   "outputs": [
    {
     "data": {
      "text/plain": [
       "array([28, 40, 44,  6, 68, 29, 27, 11,  0, 36])"
      ]
     },
     "execution_count": 173,
     "metadata": {},
     "output_type": "execute_result"
    }
   ],
   "source": [
    "sayilar=np.random.randint(0,101,10) #0 dan 100 dahil 10 ssayı üretir\n",
    "sayilar"
   ]
  },
  {
   "cell_type": "code",
   "execution_count": 177,
   "id": "c0689b21-4912-4522-a0cf-5852eea99c7b",
   "metadata": {},
   "outputs": [
    {
     "name": "stdout",
     "output_type": "stream",
     "text": [
      "28\n",
      "40\n",
      "44\n",
      "6\n",
      "68\n",
      "29\n",
      "27\n",
      "11\n",
      "0\n",
      "36\n"
     ]
    }
   ],
   "source": [
    "for i in sayilar:\n",
    "    print(i)"
   ]
  },
  {
   "cell_type": "code",
   "execution_count": 41,
   "id": "4d438760-299e-4bac-b388-bdfb3418aa84",
   "metadata": {},
   "outputs": [
    {
     "data": {
      "text/plain": [
       "array(['İrem Zehra'], dtype='<U10')"
      ]
     },
     "execution_count": 41,
     "metadata": {},
     "output_type": "execute_result"
    }
   ],
   "source": [
    "#şanslı kişileri seçelim\n",
    "isimler=['Gülceren','İrem Zehra', 'Murat']\n",
    "np.random.choice(isimler,1) #listeyi ve kaç kişi seçileceğini belirtir."
   ]
  },
  {
   "cell_type": "code",
   "execution_count": 43,
   "id": "b6e1d5e7-2379-4b1b-abbe-702b86f8a75c",
   "metadata": {},
   "outputs": [
    {
     "data": {
      "text/plain": [
       "array(['Gülceren', 'İrem Zehra', 'Murat', 'Mustafa'], dtype='<U10')"
      ]
     },
     "execution_count": 43,
     "metadata": {},
     "output_type": "execute_result"
    }
   ],
   "source": [
    "#np dizisine öge ekleme\n",
    "isimler=np.append(isimler,\"Mustafa\")\n",
    "isimler"
   ]
  },
  {
   "cell_type": "code",
   "execution_count": 201,
   "id": "9eb63a50-79b8-4a3b-bdfd-c084d8679a1d",
   "metadata": {},
   "outputs": [
    {
     "data": {
      "text/plain": [
       "array([[0., 0., 0.],\n",
       "       [0., 0., 0.],\n",
       "       [0., 0., 0.]])"
      ]
     },
     "execution_count": 201,
     "metadata": {},
     "output_type": "execute_result"
    }
   ],
   "source": [
    "sifir_dizi=np.zeros((3,3))\n",
    "ekli_liste=np.append(sifir_dizi,[[1,2,3]], axis=0) \n",
    "sifir_dizi\n"
   ]
  },
  {
   "cell_type": "code",
   "execution_count": 203,
   "id": "35b1f546-a2a2-4c53-908f-6d05181f176c",
   "metadata": {},
   "outputs": [
    {
     "data": {
      "text/plain": [
       "array([[0., 0., 0.],\n",
       "       [0., 0., 0.],\n",
       "       [0., 0., 0.],\n",
       "       [1., 2., 3.]])"
      ]
     },
     "execution_count": 203,
     "metadata": {},
     "output_type": "execute_result"
    }
   ],
   "source": [
    "ekli_liste"
   ]
  },
  {
   "cell_type": "code",
   "execution_count": 209,
   "id": "d311d25a-dedd-4729-a268-a8ea88fc344c",
   "metadata": {},
   "outputs": [
    {
     "ename": "ValueError",
     "evalue": "all the input array dimensions except for the concatenation axis must match exactly, but along dimension 0, the array at index 0 has size 4 and the array at index 1 has size 1",
     "output_type": "error",
     "traceback": [
      "\u001b[1;31m---------------------------------------------------------------------------\u001b[0m",
      "\u001b[1;31mValueError\u001b[0m                                Traceback (most recent call last)",
      "Cell \u001b[1;32mIn[209], line 2\u001b[0m\n\u001b[0;32m      1\u001b[0m sifir_dizi\u001b[38;5;241m=\u001b[39mnp\u001b[38;5;241m.\u001b[39mzeros((\u001b[38;5;241m4\u001b[39m,\u001b[38;5;241m3\u001b[39m))\n\u001b[1;32m----> 2\u001b[0m ekli_liste\u001b[38;5;241m=\u001b[39mnp\u001b[38;5;241m.\u001b[39mappend(sifir_dizi,[[\u001b[38;5;241m1\u001b[39m,\u001b[38;5;241m2\u001b[39m,\u001b[38;5;241m3\u001b[39m]], axis\u001b[38;5;241m=\u001b[39m\u001b[38;5;241m1\u001b[39m)\n",
      "File \u001b[1;32m~\\anaconda3\\Anaconda1\\Lib\\site-packages\\numpy\\lib\\function_base.py:5618\u001b[0m, in \u001b[0;36mappend\u001b[1;34m(arr, values, axis)\u001b[0m\n\u001b[0;32m   5616\u001b[0m     values \u001b[38;5;241m=\u001b[39m ravel(values)\n\u001b[0;32m   5617\u001b[0m     axis \u001b[38;5;241m=\u001b[39m arr\u001b[38;5;241m.\u001b[39mndim\u001b[38;5;241m-\u001b[39m\u001b[38;5;241m1\u001b[39m\n\u001b[1;32m-> 5618\u001b[0m \u001b[38;5;28;01mreturn\u001b[39;00m concatenate((arr, values), axis\u001b[38;5;241m=\u001b[39maxis)\n",
      "\u001b[1;31mValueError\u001b[0m: all the input array dimensions except for the concatenation axis must match exactly, but along dimension 0, the array at index 0 has size 4 and the array at index 1 has size 1"
     ]
    }
   ],
   "source": [
    "sifir_dizi=np.zeros((3,3))\n",
    "ekli_liste=np.append(sifir_dizi,[[1,2,3]], axis=1) \n",
    "#sütün olarak bu şekilde eklenemez"
   ]
  },
  {
   "cell_type": "code",
   "execution_count": 29,
   "id": "1b1ffd2a-9480-4908-9337-986a4e935b0f",
   "metadata": {},
   "outputs": [
    {
     "name": "stdout",
     "output_type": "stream",
     "text": [
      "[[0. 0. 0. 1.]\n",
      " [0. 0. 0. 2.]\n",
      " [0. 0. 0. 3.]]\n"
     ]
    }
   ],
   "source": [
    "#kodlarla ilgili poe.com\n",
    "sifir_dizi=np.zeros((3, 3))\n",
    "#print(sifir_dizi)\n",
    "ek_sütun = np.array([1, 2, 3])\n",
    "ekli_liste = np.hstack((sifir_dizi, ek_sütun.reshape(3, 1)))\n",
    "print(ekli_liste)\n"
   ]
  },
  {
   "cell_type": "code",
   "execution_count": 31,
   "id": "135c19f8-7700-4b13-b7e3-9e51b164be56",
   "metadata": {},
   "outputs": [
    {
     "name": "stdout",
     "output_type": "stream",
     "text": [
      "[[0. 0. 0.]\n",
      " [0. 0. 0.]\n",
      " [0. 0. 0.]]\n"
     ]
    },
    {
     "data": {
      "text/plain": [
       "array([[0., 0., 0., 1.],\n",
       "       [0., 0., 0., 2.],\n",
       "       [0., 0., 0., 3.]])"
      ]
     },
     "execution_count": 31,
     "metadata": {},
     "output_type": "execute_result"
    }
   ],
   "source": [
    "#sütun ekleme\n",
    "sifir_dizi=np.zeros((3,3))\n",
    "print(sifir_dizi)\n",
    "ekli_liste=np.append(sifir_dizi, [[1],[2],[3]], axis=1)\n",
    "#axis=1 dersek sütun olarak ekler\n",
    "ekli_liste"
   ]
  },
  {
   "cell_type": "code",
   "execution_count": 33,
   "id": "92d765ba-8001-4326-b748-92bf5fd5bd14",
   "metadata": {},
   "outputs": [
    {
     "data": {
      "text/plain": [
       "(2, (1, 3))"
      ]
     },
     "execution_count": 33,
     "metadata": {},
     "output_type": "execute_result"
    }
   ],
   "source": [
    "dizi1=np.array([[1,2,3]])\n",
    "dizi1.ndim,dizi1.shape\n",
    "#axis=0"
   ]
  },
  {
   "cell_type": "code",
   "execution_count": 35,
   "id": "2a68f45a-d1b8-4bf4-bbfa-6738c0fe39fe",
   "metadata": {},
   "outputs": [
    {
     "data": {
      "text/plain": [
       "(2, (3, 1))"
      ]
     },
     "execution_count": 35,
     "metadata": {},
     "output_type": "execute_result"
    }
   ],
   "source": [
    "dizi1=np.array([[1],[2],[3]])\n",
    "dizi1.ndim,dizi1.shape \n",
    "#axis=1"
   ]
  },
  {
   "cell_type": "code",
   "execution_count": 45,
   "id": "2b33db2f-3859-41e9-bad6-82678e41c284",
   "metadata": {},
   "outputs": [
    {
     "data": {
      "text/plain": [
       "array(['Gülceren', 'İrem Zehra', 'Murat', 'Mustafa'], dtype='<U10')"
      ]
     },
     "execution_count": 45,
     "metadata": {},
     "output_type": "execute_result"
    }
   ],
   "source": [
    "isimler"
   ]
  },
  {
   "cell_type": "code",
   "execution_count": 47,
   "id": "74bc2b3c-e1db-4734-bbf7-7acf7d0f9352",
   "metadata": {},
   "outputs": [
    {
     "data": {
      "text/plain": [
       "4"
      ]
     },
     "execution_count": 47,
     "metadata": {},
     "output_type": "execute_result"
    }
   ],
   "source": [
    "#öge sayısı\n",
    "len(isimler)"
   ]
  },
  {
   "cell_type": "code",
   "execution_count": 49,
   "id": "048f9dc9-ddcd-402b-b7ed-8cf88eac07d9",
   "metadata": {},
   "outputs": [
    {
     "data": {
      "text/plain": [
       "array(['Gülceren', 'İrem Zehra', 'Mustafa'], dtype='<U10')"
      ]
     },
     "execution_count": 49,
     "metadata": {},
     "output_type": "execute_result"
    }
   ],
   "source": [
    "#liste ve silinecek index sayısı\n",
    "isimler=np.delete(isimler,2)\n",
    "isimler"
   ]
  },
  {
   "cell_type": "code",
   "execution_count": null,
   "id": "b67eddc6-bcf6-4413-afd7-5de145b934c0",
   "metadata": {},
   "outputs": [],
   "source": []
  }
 ],
 "metadata": {
  "kernelspec": {
   "display_name": "Python 3 (ipykernel)",
   "language": "python",
   "name": "python3"
  },
  "language_info": {
   "codemirror_mode": {
    "name": "ipython",
    "version": 3
   },
   "file_extension": ".py",
   "mimetype": "text/x-python",
   "name": "python",
   "nbconvert_exporter": "python",
   "pygments_lexer": "ipython3",
   "version": "3.12.4"
  }
 },
 "nbformat": 4,
 "nbformat_minor": 5
}
