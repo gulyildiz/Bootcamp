{
 "cells": [
  {
   "cell_type": "markdown",
   "id": "939ad29a-1760-4ffe-ac92-fadaecf30ffe",
   "metadata": {},
   "source": [
    "### Pandas, veri manipülasyonu kütüphanesidir. Veri analizi ve manipülasyonu için kullanılan popüler bir phyton kütüphanesidir. \n",
    "### Temel bilgiler ie şu şekildedir: Pandas 2 ana veri yapısı sunar. Series: Tek boyutlu etiketli diziler. DataFrame: 2 boyutlu, boyutları değiştirilebilir, etiketli veri yapıları. Veri Manipülasyonu: Verileri filtreleyebilir, gruplandırabilir, birleştirebilir ve dönüştürülebilir. Zaman Serileri: Zaman damgaları ile çalışmak için güçlü araçlar sağlar. Dosya içi-Dışarı aktarma: CSV, Excel, SQL ve diğer formatlardan veri okuyabilir ve yazabilirsiniz. Kullanım alanları veri temizleme: Eksik verileri doldurma, aykırı değerleri tespit etme. Veri analizi: Temel istatistiksel analizler ve veri görselleştirme. Makine öğrenimi: Veri ön işleme aşamalarında sıklıkla kullanılır.\n"
   ]
  },
  {
   "cell_type": "code",
   "execution_count": 4,
   "id": "4cdf3434-136c-4f28-997f-511e5d17f454",
   "metadata": {},
   "outputs": [],
   "source": [
    "#Kurulu değilse\n",
    "#pip install pandas"
   ]
  },
  {
   "cell_type": "code",
   "execution_count": 29,
   "id": "97cd8a3c-7e61-43a9-92dd-896a2c2dc6bc",
   "metadata": {},
   "outputs": [],
   "source": [
    "import pandas as pd"
   ]
  },
  {
   "cell_type": "code",
   "execution_count": 31,
   "id": "67971a93-a74a-4aed-9553-2676c0c1f9d2",
   "metadata": {},
   "outputs": [
    {
     "data": {
      "text/plain": [
       "'2.1.4'"
      ]
     },
     "execution_count": 31,
     "metadata": {},
     "output_type": "execute_result"
    }
   ],
   "source": [
    "pd.__version__"
   ]
  },
  {
   "cell_type": "code",
   "execution_count": 33,
   "id": "eb856d06-9d50-4e30-b2ed-3f90dfaec42e",
   "metadata": {},
   "outputs": [],
   "source": [
    "#pip install - upgrade pandas\n",
    "#pip install - upgrade numpy\n",
    "## pip install pandas - 2.1.4 # Bazen çalıştırdığımız projelerde belirli bir versiyon kullanılmış olabilir.\n",
    "## kurulu değilse güncel versiyonunu kurar, kuruluysada günceller."
   ]
  },
  {
   "cell_type": "markdown",
   "id": "3fee57d7-9615-4558-b157-a871ee351372",
   "metadata": {},
   "source": [
    "### Seriler/Series"
   ]
  },
  {
   "cell_type": "code",
   "execution_count": 36,
   "id": "f3b5402f-b206-4aef-bbbf-32c4db12028b",
   "metadata": {},
   "outputs": [
    {
     "data": {
      "text/plain": [
       "0      Ali\n",
       "1     Veli\n",
       "2     İrem\n",
       "3    Murat\n",
       "dtype: object"
      ]
     },
     "execution_count": 36,
     "metadata": {},
     "output_type": "execute_result"
    }
   ],
   "source": [
    "#Listelerde seri oluşturma\n",
    "isimler=pd.Series(['Ali', 'Veli', 'İrem', 'Murat'])\n",
    "isimler"
   ]
  },
  {
   "cell_type": "code",
   "execution_count": 38,
   "id": "9c6dea18-54a3-486a-add4-0321460431c4",
   "metadata": {},
   "outputs": [
    {
     "data": {
      "text/plain": [
       "pandas.core.series.Series"
      ]
     },
     "execution_count": 38,
     "metadata": {},
     "output_type": "execute_result"
    }
   ],
   "source": [
    "type(isimler)"
   ]
  },
  {
   "cell_type": "code",
   "execution_count": 40,
   "id": "887c576d-7327-4a71-9a51-1d67d220be20",
   "metadata": {},
   "outputs": [
    {
     "data": {
      "text/plain": [
       "'İrem'"
      ]
     },
     "execution_count": 40,
     "metadata": {},
     "output_type": "execute_result"
    }
   ],
   "source": [
    "#İndex numarası 2 olan kişiyi yazdırır.\n",
    "isimler[2]"
   ]
  },
  {
   "cell_type": "code",
   "execution_count": 42,
   "id": "c88d66a7-3ff0-4d0d-af25-6f0ca9ded6df",
   "metadata": {},
   "outputs": [
    {
     "data": {
      "text/plain": [
       "0     Ali\n",
       "1    Veli\n",
       "dtype: object"
      ]
     },
     "execution_count": 42,
     "metadata": {},
     "output_type": "execute_result"
    }
   ],
   "source": [
    "#ilk 2 kişiyi yazdırır.\n",
    "isimler[0:2]"
   ]
  },
  {
   "cell_type": "code",
   "execution_count": 44,
   "id": "c6c3b37b-5f63-4760-a780-c4da448c958d",
   "metadata": {},
   "outputs": [
    {
     "data": {
      "text/plain": [
       "0    Ali\n",
       "dtype: object"
      ]
     },
     "execution_count": 44,
     "metadata": {},
     "output_type": "execute_result"
    }
   ],
   "source": [
    "#A ile başlayanları gösterelim\n",
    "isimler[isimler.str.startswith('A')]"
   ]
  },
  {
   "cell_type": "code",
   "execution_count": 46,
   "id": "1a3220fb-38a6-439f-93b8-9febd05a9349",
   "metadata": {},
   "outputs": [
    {
     "data": {
      "text/plain": [
       "0     Ali\n",
       "4    Ayla\n",
       "dtype: object"
      ]
     },
     "execution_count": 46,
     "metadata": {},
     "output_type": "execute_result"
    }
   ],
   "source": [
    "isimler = pd.concat([isimler, pd.Series(['Ayla'])], ignore_index=True)\n",
    "isimler[isimler.str.startswith('A')]"
   ]
  },
  {
   "cell_type": "code",
   "execution_count": 52,
   "id": "ae728582-0501-4ffe-9f4f-cec382d2e6b9",
   "metadata": {},
   "outputs": [
    {
     "data": {
      "text/plain": [
       "0      ali\n",
       "1     veli\n",
       "2    i̇rem\n",
       "3    murat\n",
       "4     ayla\n",
       "dtype: object"
      ]
     },
     "execution_count": 52,
     "metadata": {},
     "output_type": "execute_result"
    }
   ],
   "source": [
    "#isimleri küçük harfe çevirme\n",
    "isimler=isimler.str.lower()\n",
    "isimler"
   ]
  },
  {
   "cell_type": "code",
   "execution_count": 74,
   "id": "1742c2a2-1c67-464b-b619-ebd9a102a819",
   "metadata": {},
   "outputs": [],
   "source": [
    "import numpy as np"
   ]
  },
  {
   "cell_type": "code",
   "execution_count": 76,
   "id": "5fcd4b43-8e9a-4fef-a279-3e529f1d3d7e",
   "metadata": {},
   "outputs": [
    {
     "data": {
      "text/plain": [
       "array(['ali', 'veli'], dtype='<U4')"
      ]
     },
     "execution_count": 76,
     "metadata": {},
     "output_type": "execute_result"
    }
   ],
   "source": [
    "isimler=np.array(['Ali', 'Veli'])\n",
    "#isimler=isimler.str.lover() kullanılmaz\n",
    "isimler=np.char.lower(isimler)\n",
    "isimler"
   ]
  },
  {
   "cell_type": "code",
   "execution_count": 78,
   "id": "eec7782d-60e9-40bd-8bd9-db77c82e1f27",
   "metadata": {},
   "outputs": [
    {
     "data": {
      "text/plain": [
       "3"
      ]
     },
     "execution_count": 78,
     "metadata": {},
     "output_type": "execute_result"
    }
   ],
   "source": [
    "#Hangi ögeden kaç tane var.\n",
    "iller=pd.Series(['Adana', 'Adana', 'Antalya', 'Adana', 'Ankara', 'İstanbul', 'İzmir', 'İstanbul'])\n",
    "(iller=='Adana').sum()"
   ]
  },
  {
   "cell_type": "code",
   "execution_count": 80,
   "id": "d71dab6a-6fcf-4d0a-949b-0b193e0a20ee",
   "metadata": {},
   "outputs": [
    {
     "data": {
      "text/plain": [
       "array(['Adana', 'Antalya', 'Ankara', 'İstanbul', 'İzmir'], dtype=object)"
      ]
     },
     "execution_count": 80,
     "metadata": {},
     "output_type": "execute_result"
    }
   ],
   "source": [
    "#Tekrarlayan değerleri 1 defa alır\n",
    "iller.unique()"
   ]
  },
  {
   "cell_type": "code",
   "execution_count": 82,
   "id": "1e67e47b-3d95-47cc-aef0-c005758b90f6",
   "metadata": {},
   "outputs": [
    {
     "data": {
      "text/plain": [
       "5"
      ]
     },
     "execution_count": 82,
     "metadata": {},
     "output_type": "execute_result"
    }
   ],
   "source": [
    "#Kaç farklı ilden katılımcı var?\n",
    "iller.nunique()"
   ]
  },
  {
   "cell_type": "code",
   "execution_count": 84,
   "id": "76a1e949-3a12-4ebf-872b-cd9bd6ab35f7",
   "metadata": {},
   "outputs": [
    {
     "data": {
      "text/plain": [
       "Adana       3\n",
       "İstanbul    2\n",
       "Antalya     1\n",
       "Ankara      1\n",
       "İzmir       1\n",
       "Name: count, dtype: int64"
      ]
     },
     "execution_count": 84,
     "metadata": {},
     "output_type": "execute_result"
    }
   ],
   "source": [
    "#Ana kodumuzda kaç tane şehir varsa onu gösterir.\n",
    "iller.value_counts()"
   ]
  },
  {
   "cell_type": "code",
   "execution_count": 90,
   "id": "09758d84-47e7-4ee0-a487-bddbf57092b8",
   "metadata": {},
   "outputs": [],
   "source": [
    "takimlar=pd.Series([\"Fenerbahçe\", \"Beşiktaş\", \"Trabzonspor\", \"Galatasaray\", \"Fenerbahçe\",\"Galatasaray\", \"Trabzonspor\", \"Galatasaray\", \"Fenerbahçe\", \"Beşiktaş\", \"Fenerbahçe\"])"
   ]
  },
  {
   "cell_type": "code",
   "execution_count": 92,
   "id": "7e39259a-73a6-4e60-b0da-e58032a04bfe",
   "metadata": {},
   "outputs": [
    {
     "data": {
      "text/plain": [
       "Fenerbahçe     4\n",
       "Galatasaray    3\n",
       "Beşiktaş       2\n",
       "Trabzonspor    2\n",
       "Name: count, dtype: int64"
      ]
     },
     "execution_count": 92,
     "metadata": {},
     "output_type": "execute_result"
    }
   ],
   "source": [
    "takimlar.value_counts()"
   ]
  },
  {
   "cell_type": "code",
   "execution_count": 98,
   "id": "7dae9c82-c87d-403a-b297-a8a6ee91cca3",
   "metadata": {},
   "outputs": [
    {
     "data": {
      "text/plain": [
       "0      True\n",
       "1     False\n",
       "2     False\n",
       "3     False\n",
       "4      True\n",
       "5     False\n",
       "6     False\n",
       "7     False\n",
       "8      True\n",
       "9     False\n",
       "10     True\n",
       "dtype: bool"
      ]
     },
     "execution_count": 98,
     "metadata": {},
     "output_type": "execute_result"
    }
   ],
   "source": [
    "#Her bir değerin eşit olup olmadığını kontrol eder, sadece Fenerbahçe için*\n",
    "takimlar.isin(['Fenerbahçe'])"
   ]
  },
  {
   "cell_type": "code",
   "execution_count": 100,
   "id": "a9ae7578-5049-42c7-8a20-5ad026924971",
   "metadata": {},
   "outputs": [
    {
     "data": {
      "text/plain": [
       "10"
      ]
     },
     "execution_count": 100,
     "metadata": {},
     "output_type": "execute_result"
    }
   ],
   "source": [
    "puanlar=pd.Series([50,70,90,100,70,50,80,90,100,80])\n",
    "len(puanlar)"
   ]
  },
  {
   "cell_type": "code",
   "execution_count": 102,
   "id": "84a1b8c0-1ce8-4d90-9a3c-c9ef4663147c",
   "metadata": {},
   "outputs": [
    {
     "data": {
      "text/plain": [
       "78.0"
      ]
     },
     "execution_count": 102,
     "metadata": {},
     "output_type": "execute_result"
    }
   ],
   "source": [
    "#Ortalama\n",
    "puanlar.mean()"
   ]
  },
  {
   "cell_type": "code",
   "execution_count": 106,
   "id": "f75ab176-6cfb-44de-ba4e-c74ac7d53132",
   "metadata": {},
   "outputs": [
    {
     "data": {
      "text/plain": [
       "80.0"
      ]
     },
     "execution_count": 106,
     "metadata": {},
     "output_type": "execute_result"
    }
   ],
   "source": [
    "#median,bir veri setinde ya da belirtilen sayı kümesinde yer alan ortanca değeri verir.\n",
    "puanlar.median()"
   ]
  },
  {
   "cell_type": "code",
   "execution_count": 108,
   "id": "a320c88b-1448-4a8b-aab1-5aa0e8254007",
   "metadata": {},
   "outputs": [
    {
     "data": {
      "text/plain": [
       "18.135294011647257"
      ]
     },
     "execution_count": 108,
     "metadata": {},
     "output_type": "execute_result"
    }
   ],
   "source": [
    "#Standart sapma\n",
    "puanlar.std()"
   ]
  },
  {
   "cell_type": "code",
   "execution_count": 110,
   "id": "ec25d2b0-b63d-440c-bb3e-2a1900a83e58",
   "metadata": {},
   "outputs": [
    {
     "data": {
      "text/plain": [
       "2     90\n",
       "3    100\n",
       "6     80\n",
       "7     90\n",
       "8    100\n",
       "9     80\n",
       "dtype: int64"
      ]
     },
     "execution_count": 110,
     "metadata": {},
     "output_type": "execute_result"
    }
   ],
   "source": [
    "#Puanlar arasında belirli bir puanı filtrelemek için:\n",
    "puanlar[puanlar>70]"
   ]
  },
  {
   "cell_type": "code",
   "execution_count": 112,
   "id": "242b8b5c-af7a-4e94-bb28-da259de3c5bd",
   "metadata": {},
   "outputs": [
    {
     "data": {
      "text/plain": [
       "0    40\n",
       "1    60\n",
       "2    80\n",
       "3    90\n",
       "4    60\n",
       "5    40\n",
       "6    70\n",
       "7    80\n",
       "8    90\n",
       "9    70\n",
       "dtype: int64"
      ]
     },
     "execution_count": 112,
     "metadata": {},
     "output_type": "execute_result"
    }
   ],
   "source": [
    "#Her bir değerden 10 puan düşür.\n",
    "puanlar_eksi=puanlar-10\n",
    "puanlar_eksi"
   ]
  },
  {
   "cell_type": "code",
   "execution_count": 120,
   "id": "239c9e11-5370-45c4-a281-afcf11a113c7",
   "metadata": {},
   "outputs": [
    {
     "data": {
      "text/plain": [
       "p1    100\n",
       "p2    200\n",
       "p3    300\n",
       "p4    400\n",
       "dtype: int64"
      ]
     },
     "execution_count": 120,
     "metadata": {},
     "output_type": "execute_result"
    }
   ],
   "source": [
    "#Zaman indexli bir seri oluşturma\n",
    "#Zaman serisi analizlerinde kullanmak için\n",
    "uretim_miktarlari=pd.Series([100,200,300,400],  index=['p1', 'p2', 'p3', 'p4'])\n",
    "uretim_miktarlari"
   ]
  },
  {
   "cell_type": "code",
   "execution_count": 122,
   "id": "f9bda812-0843-415f-8f3c-e5647f215ee4",
   "metadata": {},
   "outputs": [
    {
     "data": {
      "text/plain": [
       "1000"
      ]
     },
     "execution_count": 122,
     "metadata": {},
     "output_type": "execute_result"
    }
   ],
   "source": [
    "#1 yıllık üretimi periyodik olarak 3'er aylık gösterimi\n",
    "uretim_miktarlari.sum()"
   ]
  },
  {
   "cell_type": "code",
   "execution_count": 124,
   "id": "d6f3d48b-04b0-4396-88b4-9ccd69dfac48",
   "metadata": {},
   "outputs": [
    {
     "data": {
      "text/plain": [
       "2024-01-31    100\n",
       "2024-02-29    200\n",
       "2024-03-31    300\n",
       "2024-04-30    100\n",
       "2024-05-31    200\n",
       "2024-06-30    100\n",
       "2024-07-31    700\n",
       "2024-08-31    800\n",
       "Freq: M, dtype: int64"
      ]
     },
     "execution_count": 124,
     "metadata": {},
     "output_type": "execute_result"
    }
   ],
   "source": [
    "#Tarih saatli bir örnek\n",
    "import datetime\n",
    "tarihler=pd.date_range(\"2024-01-01\", periods=8,freq='M')\n",
    "#Belirli bir tarih aralığında, belirli bir frekansta tarihler oluşturur.\n",
    "uretim=pd.Series([100,200,300,100,200,100,700,800], index=tarihler)\n",
    "uretim"
   ]
  },
  {
   "cell_type": "code",
   "execution_count": 128,
   "id": "13fbab3c-b2ab-4d86-a51b-c7cb958dec30",
   "metadata": {},
   "outputs": [
    {
     "data": {
      "text/plain": [
       "<Axes: >"
      ]
     },
     "execution_count": 128,
     "metadata": {},
     "output_type": "execute_result"
    },
    {
     "data": {
      "image/png": "[encoded data removed]",
      "text/plain": [
       "<Figure size 640x480 with 1 Axes>"
      ]
     },
     "metadata": {},
     "output_type": "display_data"
    }
   ],
   "source": [
    "#2 boyutlu grafik oluşturmak için kullanılır.\n",
    "uretim.plot()"
   ]
  },
  {
   "cell_type": "code",
   "execution_count": 130,
   "id": "1091372f-f9de-459e-9753-dfe5a5562c3a",
   "metadata": {},
   "outputs": [
    {
     "data": {
      "text/plain": [
       "İrem     99\n",
       "Murat    96\n",
       "Ali      80\n",
       "dtype: int64"
      ]
     },
     "execution_count": 130,
     "metadata": {},
     "output_type": "execute_result"
    }
   ],
   "source": [
    "#Sözlükten tanımlama\n",
    "puanlar=pd.Series({'İrem':99,\n",
    "                  'Murat':96,\n",
    "                  'Ali':80})\n",
    "puanlar"
   ]
  },
  {
   "cell_type": "code",
   "execution_count": 132,
   "id": "9a8cdc6c-bc0c-4105-9254-2d8fa201b172",
   "metadata": {},
   "outputs": [
    {
     "data": {
      "text/plain": [
       "Index(['İrem', 'Murat', 'Ali'], dtype='object')"
      ]
     },
     "execution_count": 132,
     "metadata": {},
     "output_type": "execute_result"
    }
   ],
   "source": [
    "puanlar.index"
   ]
  },
  {
   "cell_type": "code",
   "execution_count": 136,
   "id": "53f580ba-e5e7-4981-9b35-f8185047c4de",
   "metadata": {},
   "outputs": [
    {
     "data": {
      "text/html": [
       "<div>\n",
       "<style scoped>\n",
       "    .dataframe tbody tr th:only-of-type {\n",
       "        vertical-align: middle;\n",
       "    }\n",
       "\n",
       "    .dataframe tbody tr th {\n",
       "        vertical-align: top;\n",
       "    }\n",
       "\n",
       "    .dataframe thead th {\n",
       "        text-align: right;\n",
       "    }\n",
       "</style>\n",
       "<table border=\"1\" class=\"dataframe\">\n",
       "  <thead>\n",
       "    <tr style=\"text-align: right;\">\n",
       "      <th></th>\n",
       "      <th>Ad</th>\n",
       "      <th>Cinsiyet</th>\n",
       "      <th>Puan</th>\n",
       "    </tr>\n",
       "  </thead>\n",
       "  <tbody>\n",
       "    <tr>\n",
       "      <th>0</th>\n",
       "      <td>İrem</td>\n",
       "      <td>K</td>\n",
       "      <td>90</td>\n",
       "    </tr>\n",
       "    <tr>\n",
       "      <th>1</th>\n",
       "      <td>Murat</td>\n",
       "      <td>E</td>\n",
       "      <td>80</td>\n",
       "    </tr>\n",
       "    <tr>\n",
       "      <th>2</th>\n",
       "      <td>Ali</td>\n",
       "      <td>E</td>\n",
       "      <td>70</td>\n",
       "    </tr>\n",
       "    <tr>\n",
       "      <th>3</th>\n",
       "      <td>Veli</td>\n",
       "      <td>E</td>\n",
       "      <td>60</td>\n",
       "    </tr>\n",
       "    <tr>\n",
       "      <th>4</th>\n",
       "      <td>Burhan</td>\n",
       "      <td>E</td>\n",
       "      <td>80</td>\n",
       "    </tr>\n",
       "    <tr>\n",
       "      <th>5</th>\n",
       "      <td>Orhan</td>\n",
       "      <td>E</td>\n",
       "      <td>70</td>\n",
       "    </tr>\n",
       "    <tr>\n",
       "      <th>6</th>\n",
       "      <td>Elif</td>\n",
       "      <td>K</td>\n",
       "      <td>100</td>\n",
       "    </tr>\n",
       "  </tbody>\n",
       "</table>\n",
       "</div>"
      ],
      "text/plain": [
       "       Ad Cinsiyet  Puan\n",
       "0    İrem        K    90\n",
       "1   Murat        E    80\n",
       "2     Ali        E    70\n",
       "3    Veli        E    60\n",
       "4  Burhan        E    80\n",
       "5   Orhan        E    70\n",
       "6    Elif        K   100"
      ]
     },
     "execution_count": 136,
     "metadata": {},
     "output_type": "execute_result"
    }
   ],
   "source": [
    "#Data Frame, tablo şeklinde düzenli görmemizi sağlar.\n",
    "df=pd.DataFrame({'Ad':['İrem', 'Murat', 'Ali', 'Veli', 'Burhan', 'Orhan', 'Elif'],\n",
    "                'Cinsiyet':['K','E','E','E','E','E','K'],\n",
    "                'Puan':[90,80,70,60,80,70,100]})\n",
    "df"
   ]
  },
  {
   "cell_type": "code",
   "execution_count": 138,
   "id": "e9180102-77b8-4765-a07e-e14a71775c95",
   "metadata": {},
   "outputs": [
    {
     "data": {
      "text/plain": [
       "0      İrem\n",
       "1     Murat\n",
       "2       Ali\n",
       "3      Veli\n",
       "4    Burhan\n",
       "5     Orhan\n",
       "6      Elif\n",
       "Name: Ad, dtype: object"
      ]
     },
     "execution_count": 138,
     "metadata": {},
     "output_type": "execute_result"
    }
   ],
   "source": [
    "#Sütun adı\n",
    "df['Ad']"
   ]
  },
  {
   "cell_type": "code",
   "execution_count": 140,
   "id": "9750dfa2-f791-4de8-9b4f-ff765b1f6c74",
   "metadata": {},
   "outputs": [
    {
     "data": {
      "text/plain": [
       "pandas.core.series.Series"
      ]
     },
     "execution_count": 140,
     "metadata": {},
     "output_type": "execute_result"
    }
   ],
   "source": [
    "type(df['Ad'])"
   ]
  },
  {
   "cell_type": "code",
   "execution_count": 144,
   "id": "8dbb6231-9775-4746-b32a-4f23629eb50c",
   "metadata": {},
   "outputs": [
    {
     "data": {
      "text/html": [
       "<div>\n",
       "<style scoped>\n",
       "    .dataframe tbody tr th:only-of-type {\n",
       "        vertical-align: middle;\n",
       "    }\n",
       "\n",
       "    .dataframe tbody tr th {\n",
       "        vertical-align: top;\n",
       "    }\n",
       "\n",
       "    .dataframe thead th {\n",
       "        text-align: right;\n",
       "    }\n",
       "</style>\n",
       "<table border=\"1\" class=\"dataframe\">\n",
       "  <thead>\n",
       "    <tr style=\"text-align: right;\">\n",
       "      <th></th>\n",
       "      <th>Ad</th>\n",
       "      <th>Cinsiyet</th>\n",
       "      <th>Puan</th>\n",
       "    </tr>\n",
       "  </thead>\n",
       "  <tbody>\n",
       "    <tr>\n",
       "      <th>0</th>\n",
       "      <td>İrem</td>\n",
       "      <td>K</td>\n",
       "      <td>90</td>\n",
       "    </tr>\n",
       "    <tr>\n",
       "      <th>1</th>\n",
       "      <td>Murat</td>\n",
       "      <td>E</td>\n",
       "      <td>80</td>\n",
       "    </tr>\n",
       "    <tr>\n",
       "      <th>2</th>\n",
       "      <td>Ali</td>\n",
       "      <td>E</td>\n",
       "      <td>70</td>\n",
       "    </tr>\n",
       "    <tr>\n",
       "      <th>3</th>\n",
       "      <td>Veli</td>\n",
       "      <td>E</td>\n",
       "      <td>60</td>\n",
       "    </tr>\n",
       "    <tr>\n",
       "      <th>4</th>\n",
       "      <td>Burhan</td>\n",
       "      <td>E</td>\n",
       "      <td>80</td>\n",
       "    </tr>\n",
       "  </tbody>\n",
       "</table>\n",
       "</div>"
      ],
      "text/plain": [
       "       Ad Cinsiyet  Puan\n",
       "0    İrem        K    90\n",
       "1   Murat        E    80\n",
       "2     Ali        E    70\n",
       "3    Veli        E    60\n",
       "4  Burhan        E    80"
      ]
     },
     "execution_count": 144,
     "metadata": {},
     "output_type": "execute_result"
    }
   ],
   "source": [
    "#Data Frameden baştaki 5 tanesini gösterir.\n",
    "df.head()"
   ]
  },
  {
   "cell_type": "code",
   "execution_count": 146,
   "id": "6b7c4063-bfe9-4372-a8dc-55d325aaec6c",
   "metadata": {},
   "outputs": [
    {
     "data": {
      "text/html": [
       "<div>\n",
       "<style scoped>\n",
       "    .dataframe tbody tr th:only-of-type {\n",
       "        vertical-align: middle;\n",
       "    }\n",
       "\n",
       "    .dataframe tbody tr th {\n",
       "        vertical-align: top;\n",
       "    }\n",
       "\n",
       "    .dataframe thead th {\n",
       "        text-align: right;\n",
       "    }\n",
       "</style>\n",
       "<table border=\"1\" class=\"dataframe\">\n",
       "  <thead>\n",
       "    <tr style=\"text-align: right;\">\n",
       "      <th></th>\n",
       "      <th>Ad</th>\n",
       "      <th>Cinsiyet</th>\n",
       "      <th>Puan</th>\n",
       "    </tr>\n",
       "  </thead>\n",
       "  <tbody>\n",
       "    <tr>\n",
       "      <th>2</th>\n",
       "      <td>Ali</td>\n",
       "      <td>E</td>\n",
       "      <td>70</td>\n",
       "    </tr>\n",
       "    <tr>\n",
       "      <th>3</th>\n",
       "      <td>Veli</td>\n",
       "      <td>E</td>\n",
       "      <td>60</td>\n",
       "    </tr>\n",
       "    <tr>\n",
       "      <th>4</th>\n",
       "      <td>Burhan</td>\n",
       "      <td>E</td>\n",
       "      <td>80</td>\n",
       "    </tr>\n",
       "    <tr>\n",
       "      <th>5</th>\n",
       "      <td>Orhan</td>\n",
       "      <td>E</td>\n",
       "      <td>70</td>\n",
       "    </tr>\n",
       "    <tr>\n",
       "      <th>6</th>\n",
       "      <td>Elif</td>\n",
       "      <td>K</td>\n",
       "      <td>100</td>\n",
       "    </tr>\n",
       "  </tbody>\n",
       "</table>\n",
       "</div>"
      ],
      "text/plain": [
       "       Ad Cinsiyet  Puan\n",
       "2     Ali        E    70\n",
       "3    Veli        E    60\n",
       "4  Burhan        E    80\n",
       "5   Orhan        E    70\n",
       "6    Elif        K   100"
      ]
     },
     "execution_count": 146,
     "metadata": {},
     "output_type": "execute_result"
    }
   ],
   "source": [
    "#Sondan 5 tanesini gösterir.\n",
    "df.tail()"
   ]
  },
  {
   "cell_type": "code",
   "execution_count": 150,
   "id": "187d6deb-d6dc-4a1d-aac6-6e61fe7007da",
   "metadata": {},
   "outputs": [
    {
     "name": "stdout",
     "output_type": "stream",
     "text": [
      "<class 'pandas.core.frame.DataFrame'>\n",
      "RangeIndex: 7 entries, 0 to 6\n",
      "Data columns (total 3 columns):\n",
      " #   Column    Non-Null Count  Dtype \n",
      "---  ------    --------------  ----- \n",
      " 0   Ad        7 non-null      object\n",
      " 1   Cinsiyet  7 non-null      object\n",
      " 2   Puan      7 non-null      int64 \n",
      "dtypes: int64(1), object(2)\n",
      "memory usage: 300.0+ bytes\n"
     ]
    }
   ],
   "source": [
    "#info komutu, çok sayfalı belgeleri döküman olarak görüntülemeye yarayan araçtır.\n",
    "df.info()"
   ]
  },
  {
   "cell_type": "code",
   "execution_count": 152,
   "id": "20244aa2-1e0a-465e-84b8-d13c0a582728",
   "metadata": {},
   "outputs": [
    {
     "data": {
      "text/html": [
       "<div>\n",
       "<style scoped>\n",
       "    .dataframe tbody tr th:only-of-type {\n",
       "        vertical-align: middle;\n",
       "    }\n",
       "\n",
       "    .dataframe tbody tr th {\n",
       "        vertical-align: top;\n",
       "    }\n",
       "\n",
       "    .dataframe thead th {\n",
       "        text-align: right;\n",
       "    }\n",
       "</style>\n",
       "<table border=\"1\" class=\"dataframe\">\n",
       "  <thead>\n",
       "    <tr style=\"text-align: right;\">\n",
       "      <th></th>\n",
       "      <th>Puan</th>\n",
       "    </tr>\n",
       "  </thead>\n",
       "  <tbody>\n",
       "    <tr>\n",
       "      <th>count</th>\n",
       "      <td>7.000000</td>\n",
       "    </tr>\n",
       "    <tr>\n",
       "      <th>mean</th>\n",
       "      <td>78.571429</td>\n",
       "    </tr>\n",
       "    <tr>\n",
       "      <th>std</th>\n",
       "      <td>13.451854</td>\n",
       "    </tr>\n",
       "    <tr>\n",
       "      <th>min</th>\n",
       "      <td>60.000000</td>\n",
       "    </tr>\n",
       "    <tr>\n",
       "      <th>25%</th>\n",
       "      <td>70.000000</td>\n",
       "    </tr>\n",
       "    <tr>\n",
       "      <th>50%</th>\n",
       "      <td>80.000000</td>\n",
       "    </tr>\n",
       "    <tr>\n",
       "      <th>75%</th>\n",
       "      <td>85.000000</td>\n",
       "    </tr>\n",
       "    <tr>\n",
       "      <th>max</th>\n",
       "      <td>100.000000</td>\n",
       "    </tr>\n",
       "  </tbody>\n",
       "</table>\n",
       "</div>"
      ],
      "text/plain": [
       "             Puan\n",
       "count    7.000000\n",
       "mean    78.571429\n",
       "std     13.451854\n",
       "min     60.000000\n",
       "25%     70.000000\n",
       "50%     80.000000\n",
       "75%     85.000000\n",
       "max    100.000000"
      ]
     },
     "execution_count": 152,
     "metadata": {},
     "output_type": "execute_result"
    }
   ],
   "source": [
    "df.describe()"
   ]
  },
  {
   "cell_type": "code",
   "execution_count": 156,
   "id": "9fba172c-1211-4487-b2c4-4e15559426d2",
   "metadata": {},
   "outputs": [
    {
     "data": {
      "text/html": [
       "<div>\n",
       "<style scoped>\n",
       "    .dataframe tbody tr th:only-of-type {\n",
       "        vertical-align: middle;\n",
       "    }\n",
       "\n",
       "    .dataframe tbody tr th {\n",
       "        vertical-align: top;\n",
       "    }\n",
       "\n",
       "    .dataframe thead th {\n",
       "        text-align: right;\n",
       "    }\n",
       "</style>\n",
       "<table border=\"1\" class=\"dataframe\">\n",
       "  <thead>\n",
       "    <tr style=\"text-align: right;\">\n",
       "      <th></th>\n",
       "      <th>Ad</th>\n",
       "      <th>Cinsiyet</th>\n",
       "      <th>Puan</th>\n",
       "    </tr>\n",
       "  </thead>\n",
       "  <tbody>\n",
       "    <tr>\n",
       "      <th>0</th>\n",
       "      <td>İrem</td>\n",
       "      <td>K</td>\n",
       "      <td>90</td>\n",
       "    </tr>\n",
       "  </tbody>\n",
       "</table>\n",
       "</div>"
      ],
      "text/plain": [
       "     Ad Cinsiyet  Puan\n",
       "0  İrem        K    90"
      ]
     },
     "execution_count": 156,
     "metadata": {},
     "output_type": "execute_result"
    }
   ],
   "source": [
    "#Belirlediğimiz kısımdaki satırı gösterir\n",
    "df[0:1]"
   ]
  },
  {
   "cell_type": "code",
   "execution_count": 158,
   "id": "5cc685f5-3350-4fc5-85da-af391db152be",
   "metadata": {},
   "outputs": [
    {
     "data": {
      "text/html": [
       "<div>\n",
       "<style scoped>\n",
       "    .dataframe tbody tr th:only-of-type {\n",
       "        vertical-align: middle;\n",
       "    }\n",
       "\n",
       "    .dataframe tbody tr th {\n",
       "        vertical-align: top;\n",
       "    }\n",
       "\n",
       "    .dataframe thead th {\n",
       "        text-align: right;\n",
       "    }\n",
       "</style>\n",
       "<table border=\"1\" class=\"dataframe\">\n",
       "  <thead>\n",
       "    <tr style=\"text-align: right;\">\n",
       "      <th></th>\n",
       "      <th>Ad</th>\n",
       "      <th>Cinsiyet</th>\n",
       "      <th>Puan</th>\n",
       "    </tr>\n",
       "  </thead>\n",
       "  <tbody>\n",
       "    <tr>\n",
       "      <th>0</th>\n",
       "      <td>İrem</td>\n",
       "      <td>K</td>\n",
       "      <td>90</td>\n",
       "    </tr>\n",
       "    <tr>\n",
       "      <th>1</th>\n",
       "      <td>Murat</td>\n",
       "      <td>E</td>\n",
       "      <td>80</td>\n",
       "    </tr>\n",
       "  </tbody>\n",
       "</table>\n",
       "</div>"
      ],
      "text/plain": [
       "      Ad Cinsiyet  Puan\n",
       "0   İrem        K    90\n",
       "1  Murat        E    80"
      ]
     },
     "execution_count": 158,
     "metadata": {},
     "output_type": "execute_result"
    }
   ],
   "source": [
    "df[0:2]"
   ]
  },
  {
   "cell_type": "code",
   "execution_count": 162,
   "id": "8a6b94f6-2809-4fbc-9831-d4f32adbb1a8",
   "metadata": {},
   "outputs": [
    {
     "data": {
      "text/plain": [
       "0     İrem\n",
       "1    Murat\n",
       "Name: Ad, dtype: object"
      ]
     },
     "execution_count": 162,
     "metadata": {},
     "output_type": "execute_result"
    }
   ],
   "source": [
    "#Sadece ad sütununu ve 2 satırı alır.\n",
    "df['Ad'][0:2]"
   ]
  },
  {
   "cell_type": "code",
   "execution_count": 166,
   "id": "3f227807-f368-4d42-8ddc-b2b7289d6b97",
   "metadata": {},
   "outputs": [
    {
     "data": {
      "text/plain": [
       "7"
      ]
     },
     "execution_count": 166,
     "metadata": {},
     "output_type": "execute_result"
    }
   ],
   "source": [
    "#Genel uzunluğu verir.\n",
    "len(df)"
   ]
  },
  {
   "cell_type": "code",
   "execution_count": 168,
   "id": "a50c3e5a-ab2e-476b-b062-ad68ac9a9bf7",
   "metadata": {},
   "outputs": [
    {
     "data": {
      "text/plain": [
       "0     i̇rem\n",
       "1     murat\n",
       "2       ali\n",
       "3      veli\n",
       "4    burhan\n",
       "5     orhan\n",
       "6      elif\n",
       "Name: Ad, dtype: object"
      ]
     },
     "execution_count": 168,
     "metadata": {},
     "output_type": "execute_result"
    }
   ],
   "source": [
    "df['Ad']=df['Ad'].str.lower()\n",
    "df['Ad']"
   ]
  },
  {
   "cell_type": "code",
   "execution_count": null,
   "id": "77895ed6-44ef-422e-8273-64fcfb6af850",
   "metadata": {},
   "outputs": [],
   "source": []
  }
 ],
 "metadata": {
  "kernelspec": {
   "display_name": "Python 3 (ipykernel)",
   "language": "python",
   "name": "python3"
  },
  "language_info": {
   "codemirror_mode": {
    "name": "ipython",
    "version": 3
   },
   "file_extension": ".py",
   "mimetype": "text/x-python",
   "name": "python",
   "nbconvert_exporter": "python",
   "pygments_lexer": "ipython3",
   "version": "3.12.4"
  }
 },
 "nbformat": 4,
 "nbformat_minor": 5
}
