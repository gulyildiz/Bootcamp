{
 "cells": [
  {
   "cell_type": "markdown",
   "id": "deca25d7-01b1-4429-8e74-049e69500a6e",
   "metadata": {},
   "source": [
    "### Ödev"
   ]
  },
  {
   "cell_type": "code",
   "execution_count": 8,
   "id": "a6035097-1301-490e-95ce-4a4bef2cafe5",
   "metadata": {},
   "outputs": [
    {
     "name": "stdin",
     "output_type": "stream",
     "text": [
      "Adınızı giriniz: Ceren\n",
      "Soyadınızı giriniz: Yıldız\n"
     ]
    },
    {
     "name": "stdout",
     "output_type": "stream",
     "text": [
      "Ce***Yı****\n"
     ]
    }
   ],
   "source": [
    "ad=input('Adınızı giriniz:')\n",
    "soyad=input('Soyadınızı giriniz:')\n",
    "print(ad[:2]+\"***\"+soyad[:2]+\"****\")"
   ]
  },
  {
   "cell_type": "code",
   "execution_count": null,
   "id": "788340ad-5565-40bf-9f31-e86cc19fc6d0",
   "metadata": {},
   "outputs": [],
   "source": []
  }
 ],
 "metadata": {
  "kernelspec": {
   "display_name": "Python 3 (ipykernel)",
   "language": "python",
   "name": "python3"
  },
  "language_info": {
   "codemirror_mode": {
    "name": "ipython",
    "version": 3
   },
   "file_extension": ".py",
   "mimetype": "text/x-python",
   "name": "python",
   "nbconvert_exporter": "python",
   "pygments_lexer": "ipython3",
   "version": "3.12.4"
  }
 },
 "nbformat": 4,
 "nbformat_minor": 5
}
