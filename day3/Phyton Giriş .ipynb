{
 "cells": [
  {
   "cell_type": "markdown",
   "id": "2318027d-45ea-4a5e-b4ba-8efa0a12b29f",
   "metadata": {},
   "source": [
    "### Phyton programlama"
   ]
  },
  {
   "cell_type": "code",
   "execution_count": 3,
   "id": "0a475c5c-6f4b-4615-a45f-cd23ff176e0e",
   "metadata": {},
   "outputs": [
    {
     "name": "stdout",
     "output_type": "stream",
     "text": [
      "Merhaba dünya\n"
     ]
    }
   ],
   "source": [
    "print('Merhaba dünya')"
   ]
  },
  {
   "cell_type": "code",
   "execution_count": 5,
   "id": "2a982c1c-891d-481c-9e7a-b667a0946726",
   "metadata": {},
   "outputs": [
    {
     "name": "stdout",
     "output_type": "stream",
     "text": [
      "Merhaba Dünya\n"
     ]
    }
   ],
   "source": [
    "print(\"Merhaba Dünya\")"
   ]
  },
  {
   "cell_type": "markdown",
   "id": "a158fa6b-70bb-43ce-ad1a-2f405787de8c",
   "metadata": {},
   "source": [
    "# print yerine ''' tırnak kullanarakta yazdırabilirsin."
   ]
  },
  {
   "cell_type": "code",
   "execution_count": 8,
   "id": "338022d1-d796-4831-bfa5-23d030126ac6",
   "metadata": {},
   "outputs": [
    {
     "data": {
      "text/plain": [
       "'Merhaba Dünya'"
      ]
     },
     "execution_count": 8,
     "metadata": {},
     "output_type": "execute_result"
    }
   ],
   "source": [
    "'''Merhaba Dünya'''"
   ]
  },
  {
   "cell_type": "code",
   "execution_count": 12,
   "id": "eecfc586-add0-4ca7-8a6c-4f8dbfe47fec",
   "metadata": {},
   "outputs": [
    {
     "name": "stdout",
     "output_type": "stream",
     "text": [
      "\n",
      "-Merhaba Ben Ceren.\n",
      "-Nasılsın?\n",
      "\n"
     ]
    }
   ],
   "source": [
    "print('''\n",
    "-Merhaba Ben Ceren.\n",
    "-Nasılsın?\n",
    "''')"
   ]
  },
  {
   "cell_type": "markdown",
   "id": "7a7395ab-965a-4018-a31c-3d31713025d9",
   "metadata": {},
   "source": [
    "### \\n ve \\t gibi komutlara kaçış karakteri denir."
   ]
  },
  {
   "cell_type": "code",
   "execution_count": 20,
   "id": "791b328d-dc49-40a6-82bd-a88a279af48a",
   "metadata": {},
   "outputs": [
    {
     "name": "stdout",
     "output_type": "stream",
     "text": [
      "Phyton\n",
      "Programlama\n"
     ]
    }
   ],
   "source": [
    "print('Phyton\\nProgramlama') # \\n alta geçmeni sağlar."
   ]
  },
  {
   "cell_type": "code",
   "execution_count": 22,
   "id": "6e7d6c15-0020-453c-b3cd-4ebcdf67b348",
   "metadata": {},
   "outputs": [
    {
     "name": "stdout",
     "output_type": "stream",
     "text": [
      "Phyton\tProgramlama\n"
     ]
    }
   ],
   "source": [
    "print('Phyton\\tProgramlama') #\\t 1 boşluk bırakır."
   ]
  },
  {
   "cell_type": "code",
   "execution_count": 24,
   "id": "2cfc697e-2623-4685-a96c-8b4e8b38390c",
   "metadata": {},
   "outputs": [
    {
     "data": {
      "text/plain": [
       "\"Türkiye'nin başkenti Anakara'dır\""
      ]
     },
     "execution_count": 24,
     "metadata": {},
     "output_type": "execute_result"
    }
   ],
   "source": [
    "'''Türkiye'nin başkenti Anakara'dır''' #sadece tek tırnak koyarsan hata verir. Diğer tırnaklarla işlemi karıştırır."
   ]
  },
  {
   "cell_type": "markdown",
   "id": "4cd04234-9fee-4669-80cf-431fbc481524",
   "metadata": {},
   "source": [
    "# Veri Türleri"
   ]
  },
  {
   "cell_type": "code",
   "execution_count": 27,
   "id": "c82fc1cb-0f7e-4257-b81d-5a6c0ebbc283",
   "metadata": {},
   "outputs": [],
   "source": [
    "# type() türünü görmemizi sağlar"
   ]
  },
  {
   "cell_type": "code",
   "execution_count": 29,
   "id": "519c073b-fa28-4afe-b6de-08ff8da7c02f",
   "metadata": {},
   "outputs": [
    {
     "data": {
      "text/plain": [
       "float"
      ]
     },
     "execution_count": 29,
     "metadata": {},
     "output_type": "execute_result"
    }
   ],
   "source": [
    "type(3.34)"
   ]
  },
  {
   "cell_type": "code",
   "execution_count": 31,
   "id": "d1e30cf3-e995-4c31-baeb-0a78340fd61c",
   "metadata": {},
   "outputs": [
    {
     "data": {
      "text/plain": [
       "str"
      ]
     },
     "execution_count": 31,
     "metadata": {},
     "output_type": "execute_result"
    }
   ],
   "source": [
    "type('3.14') #bu şekilde yazarsan str ifadesi olarak alıgılayacaktır."
   ]
  },
  {
   "cell_type": "markdown",
   "id": "ffab9f14-07d1-4907-aa4d-fe04b9cc9bbd",
   "metadata": {},
   "source": [
    "### Veri türü değer üzerinde yapılacak işlemleri belirler"
   ]
  },
  {
   "cell_type": "code",
   "execution_count": 34,
   "id": "f3550fcf-413a-4424-9e52-97b4e738ee06",
   "metadata": {},
   "outputs": [
    {
     "data": {
      "text/plain": [
       "'13'"
      ]
     },
     "execution_count": 34,
     "metadata": {},
     "output_type": "execute_result"
    }
   ],
   "source": [
    "\"1\" + \"3\" #yazarsak str olarak algılayacaktır toplama işlemi olarak algılamaz."
   ]
  },
  {
   "cell_type": "code",
   "execution_count": 36,
   "id": "49926623-5d43-400c-8a49-1a15ea86945f",
   "metadata": {},
   "outputs": [
    {
     "data": {
      "text/plain": [
       "4.5"
      ]
     },
     "execution_count": 36,
     "metadata": {},
     "output_type": "execute_result"
    }
   ],
   "source": [
    "2+2.5"
   ]
  },
  {
   "cell_type": "code",
   "execution_count": null,
   "id": "7dd14bec-fa85-46ff-9cc6-347e7aff6bf0",
   "metadata": {},
   "outputs": [],
   "source": [
    "2+'2.5' #Çıktı hata verecektir, 2 farklı tür olduğu için tür değişimi yapmamız gerekmektedir."
   ]
  },
  {
   "cell_type": "code",
   "execution_count": 42,
   "id": "ea55f284-f61d-4013-b74f-774c3a3e5740",
   "metadata": {
    "scrolled": true
   },
   "outputs": [
    {
     "data": {
      "text/plain": [
       "'CerenCeren'"
      ]
     },
     "execution_count": 42,
     "metadata": {},
     "output_type": "execute_result"
    }
   ],
   "source": [
    "2*\"Ceren\" #metni sayı kadar tekrarlar."
   ]
  },
  {
   "cell_type": "code",
   "execution_count": 44,
   "id": "56a3e4ba-b3b3-4c4a-beac-95ac7851c951",
   "metadata": {},
   "outputs": [
    {
     "data": {
      "text/plain": [
       "'CerenCeren'"
      ]
     },
     "execution_count": 44,
     "metadata": {},
     "output_type": "execute_result"
    }
   ],
   "source": [
    "\"Ceren\"*2"
   ]
  },
  {
   "cell_type": "code",
   "execution_count": 46,
   "id": "f1ba75b4-b12c-4958-a536-51c2447b4c66",
   "metadata": {},
   "outputs": [
    {
     "name": "stdout",
     "output_type": "stream",
     "text": [
      "Ceren\tCeren\tCeren\tCeren\tCeren\tCeren\tCeren\tCeren\tCeren\tCeren\tCeren\tCeren\tCeren\tCeren\tCeren\tCeren\tCeren\tCeren\tCeren\tCeren\tCeren\tCeren\tCeren\tCeren\tCeren\tCeren\tCeren\tCeren\tCeren\tCeren\tCeren\tCeren\tCeren\tCeren\tCeren\tCeren\tCeren\tCeren\tCeren\tCeren\tCeren\tCeren\tCeren\tCeren\tCeren\tCeren\tCeren\tCeren\tCeren\tCeren\tCeren\tCeren\tCeren\tCeren\tCeren\tCeren\tCeren\tCeren\tCeren\tCeren\tCeren\tCeren\tCeren\tCeren\tCeren\tCeren\tCeren\tCeren\tCeren\tCeren\tCeren\tCeren\tCeren\tCeren\tCeren\tCeren\tCeren\tCeren\tCeren\tCeren\tCeren\tCeren\tCeren\tCeren\tCeren\tCeren\tCeren\tCeren\tCeren\tCeren\tCeren\tCeren\tCeren\tCeren\tCeren\tCeren\tCeren\tCeren\tCeren\tCeren\tCeren\tCeren\tCeren\tCeren\tCeren\tCeren\tCeren\tCeren\tCeren\tCeren\tCeren\tCeren\tCeren\tCeren\tCeren\tCeren\tCeren\tCeren\tCeren\tCeren\tCeren\tCeren\tCeren\tCeren\tCeren\tCeren\tCeren\tCeren\tCeren\tCeren\tCeren\tCeren\tCeren\tCeren\tCeren\tCeren\tCeren\tCeren\tCeren\tCeren\tCeren\tCeren\tCeren\tCeren\tCeren\tCeren\tCeren\tCeren\tCeren\tCeren\tCeren\tCeren\tCeren\tCeren\tCeren\tCeren\tCeren\tCeren\tCeren\tCeren\tCeren\tCeren\tCeren\tCeren\tCeren\tCeren\tCeren\tCeren\tCeren\tCeren\tCeren\tCeren\tCeren\tCeren\tCeren\tCeren\tCeren\tCeren\tCeren\tCeren\tCeren\tCeren\tCeren\tCeren\tCeren\tCeren\tCeren\tCeren\tCeren\tCeren\tCeren\tCeren\tCeren\tCeren\tCeren\tCeren\tCeren\tCeren\tCeren\tCeren\tCeren\tCeren\tCeren\tCeren\tCeren\tCeren\tCeren\tCeren\tCeren\tCeren\tCeren\tCeren\tCeren\tCeren\tCeren\tCeren\tCeren\tCeren\tCeren\tCeren\tCeren\tCeren\tCeren\tCeren\tCeren\tCeren\tCeren\tCeren\tCeren\tCeren\tCeren\tCeren\tCeren\tCeren\tCeren\tCeren\tCeren\tCeren\tCeren\tCeren\tCeren\tCeren\tCeren\tCeren\tCeren\tCeren\tCeren\tCeren\tCeren\tCeren\tCeren\tCeren\tCeren\tCeren\tCeren\tCeren\tCeren\tCeren\tCeren\tCeren\tCeren\tCeren\tCeren\tCeren\tCeren\tCeren\tCeren\tCeren\tCeren\tCeren\tCeren\tCeren\tCeren\tCeren\tCeren\tCeren\tCeren\tCeren\tCeren\tCeren\tCeren\tCeren\tCeren\tCeren\tCeren\tCeren\tCeren\tCeren\tCeren\tCeren\tCeren\tCeren\tCeren\tCeren\tCeren\tCeren\tCeren\tCeren\tCeren\tCeren\tCeren\tCeren\tCeren\tCeren\tCeren\tCeren\tCeren\tCeren\tCeren\tCeren\tCeren\tCeren\tCeren\tCeren\tCeren\tCeren\tCeren\tCeren\tCeren\tCeren\tCeren\tCeren\tCeren\tCeren\tCeren\tCeren\tCeren\tCeren\tCeren\tCeren\tCeren\tCeren\tCeren\tCeren\tCeren\tCeren\tCeren\tCeren\tCeren\tCeren\tCeren\tCeren\tCeren\tCeren\tCeren\tCeren\tCeren\tCeren\tCeren\tCeren\tCeren\tCeren\tCeren\tCeren\tCeren\tCeren\tCeren\tCeren\tCeren\tCeren\tCeren\tCeren\tCeren\tCeren\tCeren\tCeren\tCeren\tCeren\tCeren\tCeren\tCeren\tCeren\tCeren\tCeren\tCeren\tCeren\tCeren\tCeren\t\n"
     ]
    }
   ],
   "source": [
    "print(378*\"Ceren\\t\")"
   ]
  },
  {
   "cell_type": "code",
   "execution_count": 48,
   "id": "34577984-fb01-4668-b8dd-0ebc7b91e79d",
   "metadata": {},
   "outputs": [
    {
     "name": "stdout",
     "output_type": "stream",
     "text": [
      "P*h*y*t*o*n\n"
     ]
    }
   ],
   "source": [
    "print(*'Phyton', sep='*') # * sayı olmadan verildiğinde harfleri tek tek yazar. Sep ise boşluk oluşturmanı sağlar."
   ]
  },
  {
   "cell_type": "code",
   "execution_count": 50,
   "id": "c1273f85-8f74-4528-8689-9973e23e707f",
   "metadata": {},
   "outputs": [
    {
     "name": "stdout",
     "output_type": "stream",
     "text": [
      "P h y t o n\n"
     ]
    }
   ],
   "source": [
    "print(*'Phyton')"
   ]
  },
  {
   "cell_type": "code",
   "execution_count": 52,
   "id": "63496299-ec51-4c87-8cfd-531ac8c4a03d",
   "metadata": {},
   "outputs": [
    {
     "name": "stdout",
     "output_type": "stream",
     "text": [
      "P\th\ty\tt\to\tn\n"
     ]
    }
   ],
   "source": [
    "print(*'Phyton',sep='\\t')"
   ]
  },
  {
   "cell_type": "markdown",
   "id": "41a7fba0-82cc-4530-a00d-fdf521fb40a3",
   "metadata": {},
   "source": [
    "### * ın farklı veri türleri için farklı işlevleri vardır."
   ]
  },
  {
   "cell_type": "markdown",
   "id": "7dbee543-289e-4394-b968-6e6f60ed87d3",
   "metadata": {},
   "source": [
    "### Değişkenler"
   ]
  },
  {
   "cell_type": "code",
   "execution_count": 74,
   "id": "6e4ed9ee-de3b-486c-83cb-fb441d2498ce",
   "metadata": {},
   "outputs": [
    {
     "data": {
      "text/plain": [
       "int"
      ]
     },
     "execution_count": 74,
     "metadata": {},
     "output_type": "execute_result"
    }
   ],
   "source": [
    "sayi=10 #int\n",
    "type(sayi)"
   ]
  },
  {
   "cell_type": "code",
   "execution_count": 59,
   "id": "942d0b54-4df7-4e83-88ea-ab5a92bdec52",
   "metadata": {},
   "outputs": [
    {
     "name": "stdout",
     "output_type": "stream",
     "text": [
      "10\n"
     ]
    }
   ],
   "source": [
    "print(sayi)"
   ]
  },
  {
   "cell_type": "code",
   "execution_count": 61,
   "id": "199f7bcb-e8a7-4280-99d0-9d209a23b15f",
   "metadata": {},
   "outputs": [
    {
     "name": "stdout",
     "output_type": "stream",
     "text": [
      "sayi\n"
     ]
    }
   ],
   "source": [
    "print('sayi') #değişken olduğu gibi yazılır."
   ]
  },
  {
   "cell_type": "code",
   "execution_count": 78,
   "id": "366fc0cb-028d-45e6-b68f-7710bc7303aa",
   "metadata": {},
   "outputs": [],
   "source": [
    "sayi=5"
   ]
  },
  {
   "cell_type": "code",
   "execution_count": 67,
   "id": "3d7dbe09-9cff-46a2-bf8d-2e66bc8c14d5",
   "metadata": {},
   "outputs": [
    {
     "name": "stdout",
     "output_type": "stream",
     "text": [
      "5\n"
     ]
    }
   ],
   "source": [
    "print(sayi)"
   ]
  },
  {
   "cell_type": "markdown",
   "id": "04f518c9-6426-4bfa-b32f-14f600727dec",
   "metadata": {},
   "source": [
    "### satırın çalıştırılıp çalıştırılmaması önemli yoksa direkt il çalıştırdığın değeri verir."
   ]
  },
  {
   "cell_type": "code",
   "execution_count": null,
   "id": "8279e50d-b568-4ecd-b92f-a75715c1ec76",
   "metadata": {},
   "outputs": [],
   "source": [
    "sayi=sayi+5"
   ]
  },
  {
   "cell_type": "code",
   "execution_count": 80,
   "id": "c8d10d69-98fb-43ed-99b6-ce59ee046e82",
   "metadata": {},
   "outputs": [
    {
     "name": "stdout",
     "output_type": "stream",
     "text": [
      "5\n"
     ]
    }
   ],
   "source": [
    "print(sayi)"
   ]
  },
  {
   "cell_type": "code",
   "execution_count": 86,
   "id": "5523603a-c1ac-451b-abae-efb421a57e91",
   "metadata": {},
   "outputs": [],
   "source": [
    "sayi='Ceren'"
   ]
  },
  {
   "cell_type": "code",
   "execution_count": 82,
   "id": "013cdf69-333c-4ee7-9824-7ce6afd6244d",
   "metadata": {},
   "outputs": [
    {
     "name": "stdout",
     "output_type": "stream",
     "text": [
      "sayi\n"
     ]
    }
   ],
   "source": [
    "print('sayi')"
   ]
  },
  {
   "cell_type": "code",
   "execution_count": 84,
   "id": "9ddf8745-8211-4b64-88e1-9a6c482de1f0",
   "metadata": {},
   "outputs": [
    {
     "name": "stdout",
     "output_type": "stream",
     "text": [
      "5\n"
     ]
    }
   ],
   "source": [
    "print(sayi)"
   ]
  },
  {
   "cell_type": "code",
   "execution_count": 101,
   "id": "26b7e08c-4fcc-4477-b876-7cda7a96bfeb",
   "metadata": {},
   "outputs": [
    {
     "name": "stdout",
     "output_type": "stream",
     "text": [
      "15\n",
      "10\n"
     ]
    }
   ],
   "source": [
    "sayi1=5\n",
    "sayi2=10\n",
    "toplam=sayi1+sayi2\n",
    "print(toplam)\n",
    "sayi1+=5\n",
    "print(sayi1)"
   ]
  },
  {
   "cell_type": "code",
   "execution_count": 95,
   "id": "d1456b6e-740e-4fb6-ab4d-6346f2b8e7c3",
   "metadata": {},
   "outputs": [
    {
     "data": {
      "text/plain": [
       "20"
      ]
     },
     "execution_count": 95,
     "metadata": {},
     "output_type": "execute_result"
    }
   ],
   "source": [
    "sayi1+sayi2"
   ]
  },
  {
   "cell_type": "code",
   "execution_count": 103,
   "id": "badd1dc4-f1ad-4b8a-ae2e-acf2866c00c0",
   "metadata": {},
   "outputs": [
    {
     "name": "stdout",
     "output_type": "stream",
     "text": [
      "20\n",
      "15\n"
     ]
    },
    {
     "data": {
      "text/plain": [
       "25"
      ]
     },
     "execution_count": 103,
     "metadata": {},
     "output_type": "execute_result"
    }
   ],
   "source": [
    "toplam=sayi1+sayi2\n",
    "print(toplam)\n",
    "sayi1+=5\n",
    "print(sayi1)\n",
    "sayi1+sayi2\n"
   ]
  },
  {
   "cell_type": "code",
   "execution_count": 107,
   "id": "ff16d670-8eee-4c6f-a02d-b0808529bc4e",
   "metadata": {},
   "outputs": [
    {
     "name": "stdout",
     "output_type": "stream",
     "text": [
      "Ceren Yıldız\n"
     ]
    }
   ],
   "source": [
    "adi='Ceren'\n",
    "soyadi='Yıldız'\n",
    "adsoyad=adi+' '+soyadi\n",
    "print(adsoyad)"
   ]
  },
  {
   "cell_type": "code",
   "execution_count": 131,
   "id": "4ec2f567-a46a-4772-befa-b49fbbb903c0",
   "metadata": {
    "scrolled": true
   },
   "outputs": [
    {
     "name": "stdout",
     "output_type": "stream",
     "text": [
      "\n",
      "*\n",
      "**\n",
      "***\n",
      "****\n",
      "***\n",
      "**\n",
      "*\n",
      "\n"
     ]
    }
   ],
   "source": [
    "print('''\n",
    "*\n",
    "**\n",
    "***\n",
    "****\n",
    "***\n",
    "**\n",
    "*\n",
    "''')"
   ]
  },
  {
   "cell_type": "code",
   "execution_count": 113,
   "id": "9e49bfb8-e360-4b69-ac8f-29600a84cda6",
   "metadata": {},
   "outputs": [
    {
     "data": {
      "text/plain": [
       "'P'"
      ]
     },
     "execution_count": 113,
     "metadata": {},
     "output_type": "execute_result"
    }
   ],
   "source": [
    "metin='Phyton'\n",
    "metin[0] #ilk harfi yazar"
   ]
  },
  {
   "cell_type": "code",
   "execution_count": 115,
   "id": "e3e18a08-4309-4ce9-a02a-dea1297cd4e2",
   "metadata": {},
   "outputs": [
    {
     "data": {
      "text/plain": [
       "'Phy'"
      ]
     },
     "execution_count": 115,
     "metadata": {},
     "output_type": "execute_result"
    }
   ],
   "source": [
    "metin[0:3] #ilk 3 harfi yazar"
   ]
  },
  {
   "cell_type": "code",
   "execution_count": 119,
   "id": "73656905-0062-46af-923c-df07aca414cb",
   "metadata": {},
   "outputs": [
    {
     "data": {
      "text/plain": [
       "'123*****4'"
      ]
     },
     "execution_count": 119,
     "metadata": {},
     "output_type": "execute_result"
    }
   ],
   "source": [
    "#Maskeleme\n",
    "kimlik='123456'\n",
    "kimlik[0:3]+'*****'+kimlik[-3]"
   ]
  },
  {
   "cell_type": "code",
   "execution_count": 127,
   "id": "79fdf7e6-2ab8-4b80-9f9b-d1078366c4d2",
   "metadata": {},
   "outputs": [
    {
     "data": {
      "text/plain": [
       "'Cer**dız'"
      ]
     },
     "execution_count": 127,
     "metadata": {},
     "output_type": "execute_result"
    }
   ],
   "source": [
    "ad_soyad='Ceren Yıldız'\n",
    "ad_soyad[:3]+'**'+ad_soyad[-3:]"
   ]
  },
  {
   "cell_type": "code",
   "execution_count": 129,
   "id": "e5fe561a-80a9-453b-a3c2-98ee9f003369",
   "metadata": {},
   "outputs": [
    {
     "data": {
      "text/plain": [
       "'Cer***Yıl***'"
      ]
     },
     "execution_count": 129,
     "metadata": {},
     "output_type": "execute_result"
    }
   ],
   "source": [
    "ad='Ceren'\n",
    "soyad='Yıldız'\n",
    "ad[:3]+\"***\"+soyad[:3]+\"***\""
   ]
  },
  {
   "cell_type": "code",
   "execution_count": 135,
   "id": "c1388a9e-988e-46ce-a48b-1b2a573dd311",
   "metadata": {},
   "outputs": [
    {
     "name": "stdin",
     "output_type": "stream",
     "text": [
      "Adınızı giriniz: Ceren\n",
      "Soyadınızı giriniz: Yıldız\n"
     ]
    },
    {
     "name": "stdout",
     "output_type": "stream",
     "text": [
      "Ceren Yıldız\n"
     ]
    }
   ],
   "source": [
    "ad=input('Adınızı giriniz:')\n",
    "soyad=input('Soyadınızı giriniz:')\n",
    "print(ad+' '+soyad)"
   ]
  },
  {
   "cell_type": "code",
   "execution_count": null,
   "id": "5d7a7638-20ba-4756-b990-46885f93ad96",
   "metadata": {},
   "outputs": [],
   "source": []
  }
 ],
 "metadata": {
  "kernelspec": {
   "display_name": "Python 3 (ipykernel)",
   "language": "python",
   "name": "python3"
  },
  "language_info": {
   "codemirror_mode": {
    "name": "ipython",
    "version": 3
   },
   "file_extension": ".py",
   "mimetype": "text/x-python",
   "name": "python",
   "nbconvert_exporter": "python",
   "pygments_lexer": "ipython3",
   "version": "3.12.4"
  }
 },
 "nbformat": 4,
 "nbformat_minor": 5
}
