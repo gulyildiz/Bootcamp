{
 "cells": [
  {
   "cell_type": "markdown",
   "id": "c127166a-b946-43a8-a284-4f86172795c9",
   "metadata": {},
   "source": [
    "### pyhton ile programlama 2"
   ]
  },
  {
   "cell_type": "code",
   "execution_count": 3,
   "id": "d8f16022-9571-4b6c-be27-26d6a0ae1274",
   "metadata": {},
   "outputs": [
    {
     "name": "stdout",
     "output_type": "stream",
     "text": [
      "Merhaba\n"
     ]
    }
   ],
   "source": [
    "print ('Merhaba'); #normalde phyton'da noktalı virgül yoktur ama jupyter bunda hata vermez."
   ]
  },
  {
   "cell_type": "code",
   "execution_count": 11,
   "id": "74742579-bd84-4712-99d1-218ea3b6548b",
   "metadata": {},
   "outputs": [
    {
     "data": {
      "text/plain": [
       "0"
      ]
     },
     "execution_count": 11,
     "metadata": {},
     "output_type": "execute_result"
    }
   ],
   "source": [
    "sayi=int() # değer atamasak bile onu bir nesne olarak kabul eder ve 0 değerini atar.\n",
    "sayi"
   ]
  },
  {
   "cell_type": "code",
   "execution_count": 15,
   "id": "027f59e6-aadc-417f-a20c-4e4ffdb9eefb",
   "metadata": {},
   "outputs": [
    {
     "data": {
      "text/plain": [
       "'nereC'"
      ]
     },
     "execution_count": 15,
     "metadata": {},
     "output_type": "execute_result"
    }
   ],
   "source": [
    "isim='Ceren' #İsmi terse çevirme\n",
    "isim [::-1]"
   ]
  },
  {
   "cell_type": "code",
   "execution_count": 17,
   "id": "91acaa79-2fa4-42fd-98c8-5192d10576b4",
   "metadata": {},
   "outputs": [
    {
     "data": {
      "text/plain": [
       "'Akr'"
      ]
     },
     "execution_count": 17,
     "metadata": {},
     "output_type": "execute_result"
    }
   ],
   "source": [
    "\"Ankara\"[::2] # 2 şer atlayarak yazar"
   ]
  },
  {
   "cell_type": "code",
   "execution_count": 19,
   "id": "65638379-4ca5-453d-aa91-fc9506d3aa11",
   "metadata": {},
   "outputs": [
    {
     "data": {
      "text/plain": [
       "'ANKARA'"
      ]
     },
     "execution_count": 19,
     "metadata": {},
     "output_type": "execute_result"
    }
   ],
   "source": [
    "#str karakter dizilerinde işlemler\n",
    "metin=\"ankara\"\n",
    "metin.upper()"
   ]
  },
  {
   "cell_type": "code",
   "execution_count": 21,
   "id": "233662bf-6c68-41a2-8b40-7620589055ff",
   "metadata": {},
   "outputs": [
    {
     "data": {
      "text/plain": [
       "'ankara'"
      ]
     },
     "execution_count": 21,
     "metadata": {},
     "output_type": "execute_result"
    }
   ],
   "source": [
    "metin"
   ]
  },
  {
   "cell_type": "code",
   "execution_count": 23,
   "id": "60ce49b0-258f-4b57-a536-a28a7e0eefe5",
   "metadata": {},
   "outputs": [
    {
     "data": {
      "text/plain": [
       "'ankara'"
      ]
     },
     "execution_count": 23,
     "metadata": {},
     "output_type": "execute_result"
    }
   ],
   "source": [
    "metin.lower() # Küçük harfe çevirir."
   ]
  },
  {
   "cell_type": "code",
   "execution_count": 25,
   "id": "b38ac2f8-9319-413c-87d9-eabfbb001976",
   "metadata": {},
   "outputs": [
    {
     "data": {
      "text/plain": [
       "'ankara'"
      ]
     },
     "execution_count": 25,
     "metadata": {},
     "output_type": "execute_result"
    }
   ],
   "source": [
    "metin"
   ]
  },
  {
   "cell_type": "code",
   "execution_count": 27,
   "id": "3cc4f488-a789-46d4-ae2b-1376d4e61916",
   "metadata": {},
   "outputs": [
    {
     "data": {
      "text/plain": [
       "'ankara'"
      ]
     },
     "execution_count": 27,
     "metadata": {},
     "output_type": "execute_result"
    }
   ],
   "source": [
    "\"Ankara\".lower()"
   ]
  },
  {
   "cell_type": "code",
   "execution_count": 29,
   "id": "2b582593-144d-4a70-8e5e-04036f16e5f1",
   "metadata": {},
   "outputs": [],
   "source": [
    "metin='Ankara'.lower()"
   ]
  },
  {
   "cell_type": "code",
   "execution_count": 31,
   "id": "9b9b8e85-f04f-43ab-b677-93c9f67de777",
   "metadata": {},
   "outputs": [
    {
     "data": {
      "text/plain": [
       "'ankara'"
      ]
     },
     "execution_count": 31,
     "metadata": {},
     "output_type": "execute_result"
    }
   ],
   "source": [
    "metin"
   ]
  },
  {
   "cell_type": "code",
   "execution_count": 35,
   "id": "2736bcae-4f9b-44f1-92f4-8c3df3043513",
   "metadata": {},
   "outputs": [
    {
     "data": {
      "text/plain": [
       "'Ceren yıldız'"
      ]
     },
     "execution_count": 35,
     "metadata": {},
     "output_type": "execute_result"
    }
   ],
   "source": [
    "'ceren yıldız'.capitalize #Metnin baş harfini büyük yazar."
   ]
  },
  {
   "cell_type": "code",
   "execution_count": 37,
   "id": "962f3cf7-682a-4801-b69e-bbc5120a2ee9",
   "metadata": {},
   "outputs": [
    {
     "data": {
      "text/plain": [
       "'Ceren Yıldız'"
      ]
     },
     "execution_count": 37,
     "metadata": {},
     "output_type": "execute_result"
    }
   ],
   "source": [
    "'ceren yıldız'.title()"
   ]
  },
  {
   "cell_type": "code",
   "execution_count": 39,
   "id": "9d95df2f-b24d-4011-baf0-55e047eafde1",
   "metadata": {},
   "outputs": [
    {
     "data": {
      "text/plain": [
       "['Ceren', 'Yağmur', 'Özlem']"
      ]
     },
     "execution_count": 39,
     "metadata": {},
     "output_type": "execute_result"
    }
   ],
   "source": [
    "\"Ceren Yağmur Özlem\".split() # bir listeye ayrı ayrı öge olarak aktarır."
   ]
  },
  {
   "cell_type": "code",
   "execution_count": 41,
   "id": "f52f02f9-08f5-4fb6-98af-fdd658d80f22",
   "metadata": {},
   "outputs": [
    {
     "data": {
      "text/plain": [
       "['Eylül-Ekim-Kasım']"
      ]
     },
     "execution_count": 41,
     "metadata": {},
     "output_type": "execute_result"
    }
   ],
   "source": [
    "\"Eylül-Ekim-Kasım\".split()"
   ]
  },
  {
   "cell_type": "markdown",
   "id": "e933999f-9e18-4dbc-97ad-da6dc61e5aae",
   "metadata": {},
   "source": [
    "### Döngüler"
   ]
  },
  {
   "cell_type": "code",
   "execution_count": 50,
   "id": "4fa711e4-1c12-477d-9179-a0b1d011bc55",
   "metadata": {},
   "outputs": [
    {
     "name": "stdout",
     "output_type": "stream",
     "text": [
      "0\n",
      "1\n",
      "2\n",
      "3\n",
      "4\n",
      "5\n",
      "6\n",
      "7\n",
      "8\n",
      "9\n",
      "Döngü dışı\n"
     ]
    }
   ],
   "source": [
    "#while\n",
    "i=0\n",
    "while i<10:\n",
    "    print(i)\n",
    "    i+=1 #şart sağlandığı sürece sayaç görevi olarak görüp i'yi bir arttırır\n",
    "print('Döngü dışı')"
   ]
  },
  {
   "cell_type": "code",
   "execution_count": 52,
   "id": "cfb16b01-7587-48c3-ba48-0f2da971e0ef",
   "metadata": {},
   "outputs": [
    {
     "name": "stdout",
     "output_type": "stream",
     "text": [
      "0\n",
      "1\n",
      "2\n",
      "3\n",
      "4\n",
      "5\n",
      "6\n",
      "7\n",
      "8\n",
      "9\n"
     ]
    }
   ],
   "source": [
    "#for\n",
    "for i in range(10):\n",
    "    print(i)"
   ]
  },
  {
   "cell_type": "code",
   "execution_count": 54,
   "id": "22adb3f9-5a56-4846-b3f0-3a3ba1ff4281",
   "metadata": {},
   "outputs": [
    {
     "name": "stdout",
     "output_type": "stream",
     "text": [
      "[0, 1, 2, 3, 4, 5, 6, 7, 8, 9, 10]\n"
     ]
    }
   ],
   "source": [
    "sayi_listesi=[0,1,2,3,4,5,6,7,8,9,10]\n",
    "print(sayi_listesi)"
   ]
  },
  {
   "cell_type": "code",
   "execution_count": 58,
   "id": "a3c05061-0984-488e-9c02-b0a4ee289afe",
   "metadata": {},
   "outputs": [
    {
     "name": "stdout",
     "output_type": "stream",
     "text": [
      "0\n",
      "5\n",
      "10\n"
     ]
    }
   ],
   "source": [
    "#for, listedeki her bir sayı için 5'e tam bölünüyorsa 5 ile tam bölümünden kalan 0'a eşitse ekrana yazdırır.\n",
    "for sayi in sayi_listesi:\n",
    "    if sayi%5==0:\n",
    "        print(sayi)"
   ]
  },
  {
   "cell_type": "code",
   "execution_count": 73,
   "id": "336aa63e-fc2e-4f94-a25b-c70d6d3dad8e",
   "metadata": {},
   "outputs": [
    {
     "name": "stdout",
     "output_type": "stream",
     "text": [
      "1 2 3 4 5 6 7 8 9 10 11 12 13 14 15 16 17 18 19 20 21 22 23 24 25 26 27 28 29 30 31 32 33 34 35 36 37 38 39 40 41 42 43 44 45 46 47 48 49 50 51 52 53 54 55 56 57 58 59 60 61 62 63 64 65 66 67 68 69 70 71 72 73 74 75 76 77 78 79 80 81 82 83 84 85 86 87 88 89 90 91 92 93 94 95 96 97 98 99 100\n"
     ]
    }
   ],
   "source": [
    "sayi_listesi=(range(1,101,1)) #dilimleme işlemi gibi 1den 100 e kadar 1 arttırır.\n",
    "print(*sayi_listesi)"
   ]
  },
  {
   "cell_type": "code",
   "execution_count": 75,
   "id": "48f0b05c-314d-4384-a202-0b1e1429df8e",
   "metadata": {},
   "outputs": [
    {
     "data": {
      "text/plain": [
       "range(1, 11, 2)"
      ]
     },
     "execution_count": 75,
     "metadata": {},
     "output_type": "execute_result"
    }
   ],
   "source": [
    "sayi_listesi[0:10:2]"
   ]
  },
  {
   "cell_type": "code",
   "execution_count": 91,
   "id": "e20150c9-da2a-454a-b3ad-74943503515e",
   "metadata": {},
   "outputs": [
    {
     "data": {
      "text/plain": [
       "[0, 1, 4, 9, 16, 25, 36, 49, 64, 81, 100]"
      ]
     },
     "execution_count": 91,
     "metadata": {},
     "output_type": "execute_result"
    }
   ],
   "source": [
    "liste=[]\n",
    "sayi_listesi=list(range(11))\n",
    "for sayi in sayi_listesi:\n",
    "    liste.append(sayi**2)\n",
    "liste\n",
    "    "
   ]
  },
  {
   "cell_type": "markdown",
   "id": "fe68460a-1fba-46dc-be0b-d00a97d55141",
   "metadata": {},
   "source": [
    "## List Compherensions"
   ]
  },
  {
   "cell_type": "code",
   "execution_count": 93,
   "id": "1284fe03-319d-4b06-9ec9-f5007ccc41b0",
   "metadata": {},
   "outputs": [
    {
     "data": {
      "text/plain": [
       "[0, 1, 4, 9, 16, 25, 36, 49, 64, 81, 100]"
      ]
     },
     "execution_count": 93,
     "metadata": {},
     "output_type": "execute_result"
    }
   ],
   "source": [
    "[sayi**2 for sayi in sayi_listesi]"
   ]
  },
  {
   "cell_type": "code",
   "execution_count": 95,
   "id": "6e0fe080-a7a1-424b-85e3-532fb2aab54b",
   "metadata": {},
   "outputs": [
    {
     "data": {
      "text/plain": [
       "25"
      ]
     },
     "execution_count": 95,
     "metadata": {},
     "output_type": "execute_result"
    }
   ],
   "source": [
    "#tek satırlık fonksiyonlar\n",
    "fonk=(lambda x:x**2)\n",
    "fonk(5)"
   ]
  },
  {
   "cell_type": "code",
   "execution_count": 97,
   "id": "581c731b-66c8-42bf-b5af-417f826c9827",
   "metadata": {},
   "outputs": [
    {
     "data": {
      "text/plain": [
       "25"
      ]
     },
     "execution_count": 97,
     "metadata": {},
     "output_type": "execute_result"
    }
   ],
   "source": [
    "(lambda x:x**2)(5)"
   ]
  },
  {
   "cell_type": "code",
   "execution_count": 99,
   "id": "375dd568-1f9d-497a-9477-c2be5f71b2a5",
   "metadata": {},
   "outputs": [
    {
     "data": {
      "text/plain": [
       "2"
      ]
     },
     "execution_count": 99,
     "metadata": {},
     "output_type": "execute_result"
    }
   ],
   "source": [
    "(lambda x:x%5)(17)"
   ]
  },
  {
   "cell_type": "code",
   "execution_count": 101,
   "id": "1ff877dc-3f5a-4c4e-8654-51350fc5c974",
   "metadata": {},
   "outputs": [
    {
     "data": {
      "text/plain": [
       "10"
      ]
     },
     "execution_count": 101,
     "metadata": {},
     "output_type": "execute_result"
    }
   ],
   "source": [
    "(lambda x,y:x*y)(5,2)"
   ]
  },
  {
   "cell_type": "code",
   "execution_count": 103,
   "id": "9d858c7a-900d-486c-b9f3-58be9766f920",
   "metadata": {},
   "outputs": [
    {
     "data": {
      "text/plain": [
       "'nereC'"
      ]
     },
     "execution_count": 103,
     "metadata": {},
     "output_type": "execute_result"
    }
   ],
   "source": [
    "(lambda x:x[::-1])(\"Ceren\")"
   ]
  },
  {
   "cell_type": "code",
   "execution_count": 105,
   "id": "44aa559a-55f3-4b62-8291-30e515cb88f5",
   "metadata": {},
   "outputs": [
    {
     "data": {
      "text/plain": [
       "'nereC'"
      ]
     },
     "execution_count": 105,
     "metadata": {},
     "output_type": "execute_result"
    }
   ],
   "source": [
    "tersi=(lambda x:x[::-1])\n",
    "tersi(\"Ceren\")"
   ]
  },
  {
   "cell_type": "code",
   "execution_count": 107,
   "id": "75a62e89-38c5-47c9-8920-85c1e4f75075",
   "metadata": {},
   "outputs": [
    {
     "data": {
      "text/plain": [
       "'nereC'"
      ]
     },
     "execution_count": 107,
     "metadata": {},
     "output_type": "execute_result"
    }
   ],
   "source": [
    "tersi('Ceren')"
   ]
  },
  {
   "cell_type": "code",
   "execution_count": 117,
   "id": "a7ec335f-c489-4630-ba07-6a29e0cdd911",
   "metadata": {},
   "outputs": [],
   "source": [
    "#Kullanıcı tanımlı fonksiyonlar\n",
    "def kare_al(x):\n",
    "    return x**2"
   ]
  },
  {
   "cell_type": "code",
   "execution_count": 119,
   "id": "4b3f0b0e-956b-4792-924f-d49e68a2b203",
   "metadata": {},
   "outputs": [
    {
     "data": {
      "text/plain": [
       "81"
      ]
     },
     "execution_count": 119,
     "metadata": {},
     "output_type": "execute_result"
    }
   ],
   "source": [
    "kare_al(9)"
   ]
  },
  {
   "cell_type": "code",
   "execution_count": 121,
   "id": "f7b46d9b-1cf8-4078-9ba3-dcce599b5929",
   "metadata": {},
   "outputs": [
    {
     "name": "stdout",
     "output_type": "stream",
     "text": [
      "0\n",
      "1\n",
      "4\n",
      "9\n",
      "16\n",
      "25\n",
      "36\n",
      "49\n",
      "64\n",
      "81\n",
      "100\n"
     ]
    }
   ],
   "source": [
    "for i in sayi_listesi:\n",
    "    print(kare_al(i))"
   ]
  },
  {
   "cell_type": "code",
   "execution_count": 135,
   "id": "78ca6bd8-1d70-4bc9-894c-f03937768604",
   "metadata": {},
   "outputs": [
    {
     "data": {
      "text/plain": [
       "[0, 1, 4, 9, 16, 25, 36, 49, 64, 81, 100]"
      ]
     },
     "execution_count": 135,
     "metadata": {},
     "output_type": "execute_result"
    }
   ],
   "source": [
    "lmd_kare_al=(lambda x:x*x)\n",
    "kareleri=list(map(lmd_kare_al, sayi_listesi)) # bir fonksiyonu bir listeye aktarmak\n",
    "kareleri"
   ]
  },
  {
   "cell_type": "code",
   "execution_count": 131,
   "id": "f5b266f5-3cc2-427f-ba0d-9a0a7aa16f53",
   "metadata": {},
   "outputs": [
    {
     "data": {
      "text/plain": [
       "[0, 1, 4, 9, 16, 25, 36, 49, 64, 81, 100]"
      ]
     },
     "execution_count": 131,
     "metadata": {},
     "output_type": "execute_result"
    }
   ],
   "source": [
    "kareleri"
   ]
  },
  {
   "cell_type": "code",
   "execution_count": 137,
   "id": "31b893e1-ae23-41c6-9d5b-00d788bb5e48",
   "metadata": {},
   "outputs": [
    {
     "data": {
      "text/plain": [
       "[0, 1, 4, 9, 16, 25, 36, 49, 64, 81, 100]"
      ]
     },
     "execution_count": 137,
     "metadata": {},
     "output_type": "execute_result"
    }
   ],
   "source": [
    "def kare_al(x):\n",
    "    return x**2\n",
    "kareleri=list(map(kare_al,sayi_listesi))\n",
    "kareleri"
   ]
  },
  {
   "cell_type": "code",
   "execution_count": 139,
   "id": "12afcad2-8fd4-45bd-b53e-0ada38f3b9b0",
   "metadata": {},
   "outputs": [],
   "source": [
    "def cift_mi(sayi):\n",
    "    if sayi%2==0:\n",
    "        return True\n",
    "    else: return False    "
   ]
  },
  {
   "cell_type": "code",
   "execution_count": 145,
   "id": "56980c34-8d46-4a67-9861-0a9faaf6e43a",
   "metadata": {},
   "outputs": [
    {
     "data": {
      "text/plain": [
       "[0, 2, 4, 6, 8, 10]"
      ]
     },
     "execution_count": 145,
     "metadata": {},
     "output_type": "execute_result"
    }
   ],
   "source": [
    "#filter kullanımı\n",
    "sonuc=list(filter(cift_mi, sayi_listesi))\n",
    "sonuc"
   ]
  },
  {
   "cell_type": "code",
   "execution_count": 147,
   "id": "24d620c3-cf37-4482-abcd-fafe6272cb3c",
   "metadata": {},
   "outputs": [],
   "source": [
    "def us_alma(sayi=5,pow=2): #rastgele değerler verdik, değer vermezsen var sayılan değerleri kullanır.\n",
    "    return sayi**pow"
   ]
  },
  {
   "cell_type": "code",
   "execution_count": 149,
   "id": "39a24081-1bb6-41bf-8c82-3022c72c80a0",
   "metadata": {},
   "outputs": [
    {
     "data": {
      "text/plain": [
       "25"
      ]
     },
     "execution_count": 149,
     "metadata": {},
     "output_type": "execute_result"
    }
   ],
   "source": [
    "us_alma()"
   ]
  },
  {
   "cell_type": "code",
   "execution_count": 151,
   "id": "2db74ebe-5f17-461c-87a8-babc494f36b9",
   "metadata": {},
   "outputs": [
    {
     "data": {
      "text/plain": [
       "27"
      ]
     },
     "execution_count": 151,
     "metadata": {},
     "output_type": "execute_result"
    }
   ],
   "source": [
    "us_alma(3,3)"
   ]
  },
  {
   "cell_type": "code",
   "execution_count": 155,
   "id": "57a6ac2a-20ea-4c08-ace0-4ffdf4c6ced0",
   "metadata": {},
   "outputs": [
    {
     "name": "stdout",
     "output_type": "stream",
     "text": [
      "False\n"
     ]
    }
   ],
   "source": [
    "#Operatörler\n",
    "universite=True\n",
    "ehliyet=False\n",
    "#print(ehliyet&universite)\n",
    "#& operatör çarpma işlemidir, beraber sağlanmadığı için false değerini verir. & yerine and kullanılabilir."
   ]
  },
  {
   "cell_type": "code",
   "execution_count": 157,
   "id": "81032783-6f04-4d11-84aa-eb519c25545a",
   "metadata": {},
   "outputs": [
    {
     "name": "stdout",
     "output_type": "stream",
     "text": [
      "True\n"
     ]
    }
   ],
   "source": [
    "#şartların birisini sağlaması gerekseydi\n",
    "print(ehliyet | universite)"
   ]
  },
  {
   "cell_type": "code",
   "execution_count": 165,
   "id": "2e5670f8-9162-45c3-9d70-46888439eeeb",
   "metadata": {},
   "outputs": [
    {
     "data": {
      "text/plain": [
       "False"
      ]
     },
     "execution_count": 165,
     "metadata": {},
     "output_type": "execute_result"
    }
   ],
   "source": [
    "yas=25\n",
    "ehliyet=False\n",
    "universite=True\n",
    "tecrube=2\n",
    "#25 yaş ve altı (üniversite mezunu veya en az 5 yıl tecrübe ve ehliyet olmalı)\n",
    "#25 yaş ve altı zorunlu\n",
    "yas<= 25 and(universite==True or tecrube>=5) and (ehliyet==True)"
   ]
  },
  {
   "cell_type": "code",
   "execution_count": 167,
   "id": "28b1c7b1-49dc-44ba-9e60-6b82684c14dd",
   "metadata": {},
   "outputs": [
    {
     "data": {
      "text/plain": [
       "1"
      ]
     },
     "execution_count": 167,
     "metadata": {},
     "output_type": "execute_result"
    }
   ],
   "source": [
    "bin=True\n",
    "bin==True\n",
    "int(bin)\n"
   ]
  },
  {
   "cell_type": "code",
   "execution_count": 169,
   "id": "44b21d38-0435-4312-990e-20c8c4c5b5ad",
   "metadata": {},
   "outputs": [
    {
     "data": {
      "text/plain": [
       "0"
      ]
     },
     "execution_count": 169,
     "metadata": {},
     "output_type": "execute_result"
    }
   ],
   "source": [
    "bin=False\n",
    "int(bin)"
   ]
  },
  {
   "cell_type": "code",
   "execution_count": 171,
   "id": "cef9c5bb-9026-4299-a054-ab5e1cb7a693",
   "metadata": {},
   "outputs": [
    {
     "data": {
      "text/plain": [
       "False"
      ]
     },
     "execution_count": 171,
     "metadata": {},
     "output_type": "execute_result"
    }
   ],
   "source": [
    "bin='False'\n",
    "bin==True"
   ]
  },
  {
   "cell_type": "code",
   "execution_count": 173,
   "id": "8af5a1a4-cadb-4b2a-9a41-0de276b6adfe",
   "metadata": {},
   "outputs": [
    {
     "data": {
      "text/plain": [
       "False"
      ]
     },
     "execution_count": 173,
     "metadata": {},
     "output_type": "execute_result"
    }
   ],
   "source": [
    "bin='True'\n",
    "bin==True #özel bir değerdir."
   ]
  },
  {
   "cell_type": "code",
   "execution_count": 175,
   "id": "abf3c2ab-944e-4543-9368-659dfde6ed7e",
   "metadata": {},
   "outputs": [
    {
     "data": {
      "text/plain": [
       "bool"
      ]
     },
     "execution_count": 175,
     "metadata": {},
     "output_type": "execute_result"
    }
   ],
   "source": [
    "type(True) #bool sadece True/False değeri alır."
   ]
  },
  {
   "cell_type": "code",
   "execution_count": 177,
   "id": "aa47161b-5783-42e4-9d09-7813fdc5cab2",
   "metadata": {},
   "outputs": [
    {
     "data": {
      "text/plain": [
       "True"
      ]
     },
     "execution_count": 177,
     "metadata": {},
     "output_type": "execute_result"
    }
   ],
   "source": [
    "bool('False') #içinde 0 ya da hiçlik belirten bir durum olmadığı sürece varlık olduğu için True değerini verir."
   ]
  },
  {
   "cell_type": "code",
   "execution_count": 1,
   "id": "a714d41d-7f79-44c2-a4e2-5864c5db76a3",
   "metadata": {},
   "outputs": [
    {
     "name": "stdin",
     "output_type": "stream",
     "text": [
      "Yaş: 24\n",
      "Ehliyetiniz var mı? Evet için: 1 Hayır için: 0 giriniz. 1\n",
      "Üniversite diplomanız var mı? Evet için: 1 Hayır için: 0 0\n",
      "İş tecrübeniz yıl olarak 5\n"
     ]
    },
    {
     "name": "stdout",
     "output_type": "stream",
     "text": [
      "ilk aşamayı geçtiniz. Mülakata katılabilirsiniz.\n"
     ]
    }
   ],
   "source": [
    "#Koşul ifadeleri\n",
    "yas=(int(input('Yaş:')))\n",
    "ehliyet=(int(input('Ehliyetiniz var mı? Evet için: 1 Hayır için: 0 giriniz.')))\n",
    "universite=bool(int(input('Üniversite diplomanız var mı? Evet için: 1 Hayır için: 0')))\n",
    "tecrube=int(input('İş tecrübeniz yıl olarak'))\n",
    "if yas<25 and (universite or tecrube>=5) and ehliyet:\n",
    "     print('ilk aşamayı geçtiniz. Mülakata katılabilirsiniz.')\n",
    "else:\n",
    "     print('Mülakata giriş için şartlarınız uygun değildir.')\n",
    "     if yas>25:\n",
    "      print('Yaşınız uygun değildir')\n",
    "     if ehliyet==False:\n",
    "      print('Ehliyet gerekmektedir.')\n",
    "     if universite==False and tecrube<5:\n",
    "      print(('Universite veya tecrübe şartı sağlanamadı'))\n"
   ]
  },
  {
   "cell_type": "code",
   "execution_count": 26,
   "id": "80071167-3c71-4cb5-8a1e-75481c2c3c82",
   "metadata": {},
   "outputs": [],
   "source": [
    "#Ortalama hesaplayan bir fonksiyon tanımlayalım\n",
    "def ortalama_hesapla(vn=50, vny=.30, fn=50, fny=.50, ddn=50, ddny=.20):\n",
    "    yuzde_toplam=vny+fny+ddny\n",
    "    print(\"yüzde toplamı\" , yuzde_toplam)\n",
    "    if (vny+fny+ddny) ==1:\n",
    "        if 0<=vn<=100 and 0<=fn<=100 and 0<=ddn<=100:\n",
    "            return vn*vny*fn*fny*ddn*ddny\n",
    "        else: print('Puanlar geçerli aralıkta olmalı')\n",
    "    else: print('Yüzdelerin toplamı 1 olmalı')"
   ]
  },
  {
   "cell_type": "code",
   "execution_count": 28,
   "id": "ce7a6f5b-84a9-43a3-aef2-83ac0a6eb65f",
   "metadata": {},
   "outputs": [
    {
     "name": "stdout",
     "output_type": "stream",
     "text": [
      "yüzde toplamı 1.0\n"
     ]
    },
    {
     "data": {
      "text/plain": [
       "3750.0"
      ]
     },
     "execution_count": 28,
     "metadata": {},
     "output_type": "execute_result"
    }
   ],
   "source": [
    "ortalama_hesapla()"
   ]
  },
  {
   "cell_type": "code",
   "execution_count": 30,
   "id": "f1d79b66-fa1f-4798-bea2-62c5bfc0c763",
   "metadata": {},
   "outputs": [
    {
     "name": "stdout",
     "output_type": "stream",
     "text": [
      "yüzde toplamı 1.0999999999999999\n",
      "Yüzdelerin toplamı 1 olmalı\n"
     ]
    }
   ],
   "source": [
    "ortalama_hesapla(70,.3,60,.6,30,.2)"
   ]
  },
  {
   "cell_type": "code",
   "execution_count": 32,
   "id": "27051d4e-8a2e-40a1-b25f-b0651c03d939",
   "metadata": {},
   "outputs": [
    {
     "name": "stdout",
     "output_type": "stream",
     "text": [
      "yüzde toplamı 0.9099999999999999\n",
      "Yüzdelerin toplamı 1 olmalı\n"
     ]
    }
   ],
   "source": [
    "ortalama_hesapla(70,3/10,60,6/10,100,1/100)"
   ]
  },
  {
   "cell_type": "code",
   "execution_count": 34,
   "id": "7fc0118b-06f7-4e8d-b804-d422ad2041b8",
   "metadata": {},
   "outputs": [],
   "source": [
    "def ortalama_hesapla(vn=50,vny=.30,fn=50,fny=.50,ddn=50,ddny=.20):\n",
    "    yuzde_toplam=vny+fny+ddny\n",
    "    print(\"yüzde toplamı\" , yuzde_toplam)\n",
    "    if (vny+fny+ddny)>=.99999:\n",
    "        if 0<=vn<=100 and 0<=fn<=100 and 0<=ddn<=100:\n",
    "            return vn*vny+fn*fny+ddn*ddny\n",
    "        else: print('Puanlar geçerli aralıkta olmalı')\n",
    "    else: print('Yüzdelerin toplamı 1 olmalı')"
   ]
  },
  {
   "cell_type": "code",
   "execution_count": 36,
   "id": "c3e40122-022f-4e97-a652-728cdd0eca32",
   "metadata": {},
   "outputs": [
    {
     "name": "stdout",
     "output_type": "stream",
     "text": [
      "yüzde toplamı 0.9999999999999999\n"
     ]
    },
    {
     "data": {
      "text/plain": [
       "67.0"
      ]
     },
     "execution_count": 36,
     "metadata": {},
     "output_type": "execute_result"
    }
   ],
   "source": [
    "ortalama_hesapla(70,3/10,60,6/10,100,1/10)"
   ]
  },
  {
   "cell_type": "code",
   "execution_count": 38,
   "id": "27ce0dab-d71f-498a-bfac-0de084902e90",
   "metadata": {},
   "outputs": [
    {
     "name": "stdout",
     "output_type": "stream",
     "text": [
      "dict_keys(['AI', 'ML', 'DL'])\n",
      "dict_values(['Artificial Intelligence', 'Machine Learning', 'Deep Learning'])\n",
      "dict_items([('AI', 'Artificial Intelligence'), ('ML', 'Machine Learning'), ('DL', 'Deep Learning')])\n"
     ]
    }
   ],
   "source": [
    "#Sözlükler\n",
    "sozluk={\"AI\":\"Artificial Intelligence\" ,\n",
    "        \"ML\":\"Machine Learning\" ,\n",
    "        \"DL\":\"Deep Learning\"}\n",
    "keys=sozluk.keys()\n",
    "print(keys)\n",
    "values=sozluk.values()\n",
    "print(values)\n",
    "items=sozluk.items()\n",
    "print(items)"
   ]
  },
  {
   "cell_type": "code",
   "execution_count": 42,
   "id": "5d87c940-7104-4cdf-8ecc-f822814aa7bd",
   "metadata": {},
   "outputs": [
    {
     "data": {
      "text/plain": [
       "'Artificial Intelligence'"
      ]
     },
     "execution_count": 42,
     "metadata": {},
     "output_type": "execute_result"
    }
   ],
   "source": [
    "sozluk[\"AI\"]"
   ]
  },
  {
   "cell_type": "code",
   "execution_count": null,
   "id": "0be95343-b52a-4685-94b7-fc225e07629d",
   "metadata": {},
   "outputs": [],
   "source": []
  }
 ],
 "metadata": {
  "kernelspec": {
   "display_name": "Python 3 (ipykernel)",
   "language": "python",
   "name": "python3"
  },
  "language_info": {
   "codemirror_mode": {
    "name": "ipython",
    "version": 3
   },
   "file_extension": ".py",
   "mimetype": "text/x-python",
   "name": "python",
   "nbconvert_exporter": "python",
   "pygments_lexer": "ipython3",
   "version": "3.12.4"
  }
 },
 "nbformat": 4,
 "nbformat_minor": 5
}
